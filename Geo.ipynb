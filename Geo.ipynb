{
 "cells": [
  {
   "cell_type": "code",
   "execution_count": 1,
   "metadata": {},
   "outputs": [],
   "source": [
    "import pandas as pd\n",
    "import geopandas\n",
    "from shapely import wkt\n",
    "from shapely.geometry import Point, LineString, Polygon\n",
    "import re\n",
    "import matplotlib.pyplot as plt\n",
    "import matplotlib.image as mpimg\n",
    "import matplotlib.animation as animation\n",
    "from pathlib import Path\n",
    "from PIL import Image\n",
    "from IPython.display import HTML\n",
    "from matplotlib import animation, rc"
   ]
  },
  {
   "cell_type": "code",
   "execution_count": null,
   "metadata": {},
   "outputs": [],
   "source": []
  },
  {
   "cell_type": "code",
   "execution_count": 5,
   "metadata": {},
   "outputs": [
    {
     "data": {
      "text/plain": [
       "<function __main__.show_map(subtour=None, title='', closeloop=False, fname=None)>"
      ]
     },
     "execution_count": 5,
     "metadata": {},
     "output_type": "execute_result"
    }
   ],
   "source": [
    "def show_map(subtour=None, title=\"\",closeloop=False, fname=None):\n",
    "    \n",
    "    # prep the plot using the US map canvas (ax)\n",
    "    ax = usa[1:50].plot(color='white', edgecolor='gray',figsize=(30,15))\n",
    "    ax.axis('off')\n",
    "    \n",
    "    if subtour:\n",
    "        \n",
    "        #create a list of cities \n",
    "        city_lst = list(subtour)\n",
    "        if closeloop:\n",
    "            city_lst += [subtour[0]]\n",
    "        \n",
    "        # encode the city_lst for GeoPandas\n",
    "        path_lst = [(breweries_df['coordinates'][i].x,breweries_df['coordinates'][i].y)  for i in city_lst]\n",
    "        path = LineString(path_lst)\n",
    "        path_gdf = geopandas.GeoSeries(path)\n",
    "        path_gdf.plot(ax=ax, color='green',linewidth=2)\n",
    "        \n",
    "    \n",
    "    # mark and label the cities\n",
    "    breweries_gdf.plot(ax=ax, color='red')\n",
    "    props = dict(boxstyle='round', facecolor='linen', alpha=1)\n",
    "    for c in breweries_gdf.iterrows():\n",
    "        ax.annotate(s=c[1][0],xy=(c[1][1].x,c[1][1].y), color=\"blue\",fontsize=8)\n",
    "    \n",
    "    plt.title(title, fontdict = {'fontsize':22})\n",
    "    if fname:\n",
    "        plt.savefig(fname,bbox_inches='tight',pad_inches=0.01)\n",
    "        plt.close()\n",
    "    else:\n",
    "        plt.show()\n",
    "        \n",
    "show_map"
   ]
  },
  {
   "cell_type": "raw",
   "metadata": {},
   "source": []
  },
  {
   "cell_type": "code",
   "execution_count": null,
   "metadata": {},
   "outputs": [],
   "source": []
  }
 ],
 "metadata": {
  "kernelspec": {
   "display_name": "Python 3",
   "language": "python",
   "name": "python3"
  },
  "language_info": {
   "codemirror_mode": {
    "name": "ipython",
    "version": 3
   },
   "file_extension": ".py",
   "mimetype": "text/x-python",
   "name": "python",
   "nbconvert_exporter": "python",
   "pygments_lexer": "ipython3",
   "version": "3.6.7"
  }
 },
 "nbformat": 4,
 "nbformat_minor": 2
}
