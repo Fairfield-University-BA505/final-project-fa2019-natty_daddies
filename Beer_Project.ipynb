{
 "cells": [
  {
   "cell_type": "markdown",
   "metadata": {},
   "source": [
    "## Brewery and Beer Data\n",
    "\n"
   ]
  },
  {
   "cell_type": "code",
   "execution_count": 1,
   "metadata": {},
   "outputs": [
    {
     "name": "stdout",
     "output_type": "stream",
     "text": [
      "      Unnamed: 0    abv   ibu    id                  name  \\\n",
      "0              0  0.050   NaN  1436              Pub Beer   \n",
      "1              1  0.066   NaN  2265           Devil's Cup   \n",
      "2              2  0.071   NaN  2264   Rise of the Phoenix   \n",
      "3              3  0.090   NaN  2263              Sinister   \n",
      "4              4  0.075   NaN  2262         Sex and Candy   \n",
      "...          ...    ...   ...   ...                   ...   \n",
      "2405        2405  0.067  45.0   928             Belgorado   \n",
      "2406        2406  0.052   NaN   807         Rail Yard Ale   \n",
      "2407        2407  0.055   NaN   620       B3K Black Lager   \n",
      "2408        2408  0.055  40.0   145   Silverback Pale Ale   \n",
      "2409        2409  0.052   NaN    84  Rail Yard Ale (2009)   \n",
      "\n",
      "                               style  brewery_id  ounces  \n",
      "0                American Pale Lager         408    12.0  \n",
      "1            American Pale Ale (APA)         177    12.0  \n",
      "2                       American IPA         177    12.0  \n",
      "3     American Double / Imperial IPA         177    12.0  \n",
      "4                       American IPA         177    12.0  \n",
      "...                              ...         ...     ...  \n",
      "2405                     Belgian IPA         424    12.0  \n",
      "2406        American Amber / Red Ale         424    12.0  \n",
      "2407                     Schwarzbier         424    12.0  \n",
      "2408         American Pale Ale (APA)         424    12.0  \n",
      "2409        American Amber / Red Ale         424    12.0  \n",
      "\n",
      "[2410 rows x 8 columns]      Unnamed: 0                           name           city state\n",
      "0             0             NorthGate Brewing     Minneapolis    MN\n",
      "1             1      Against the Grain Brewery     Louisville    KY\n",
      "2             2       Jack's Abby Craft Lagers     Framingham    MA\n",
      "3             3      Mike Hess Brewing Company      San Diego    CA\n",
      "4             4        Fort Point Beer Company  San Francisco    CA\n",
      "..          ...                            ...            ...   ...\n",
      "553         553            Covington Brewhouse      Covington    LA\n",
      "554         554                Dave's Brewfarm         Wilson    WI\n",
      "555         555          Ukiah Brewing Company          Ukiah    CA\n",
      "556         556        Butternuts Beer and Ale  Garrattsville    NY\n",
      "557         557  Sleeping Lady Brewing Company      Anchorage    AK\n",
      "\n",
      "[558 rows x 4 columns]\n"
     ]
    }
   ],
   "source": [
    "import pandas as pd\n",
    "import numpy as np\n",
    "import matplotlib.pyplot as plt \n",
    "import seaborn as sns\n",
    "\n",
    "beers_df = pd.read_csv('beers.csv') \n",
    "breweries_df = pd.read_csv('breweries.csv') \n",
    "\n",
    "\n",
    "print(beers_df, breweries_df)"
   ]
  },
  {
   "cell_type": "code",
   "execution_count": null,
   "metadata": {},
   "outputs": [],
   "source": [
    "beers_df['name'].value_counts().plot(kind='bar')\n",
    "plt.title('Beers')\n",
    "plt.ylabel('Beers')\n",
    "plt.xlabel('Beers')\n",
    "plt.xticks(rotation='horizontal')"
   ]
  },
  {
   "cell_type": "code",
   "execution_count": null,
   "metadata": {},
   "outputs": [],
   "source": [
    "states_breweries=breweries_df.groupby(['state']).count()\n",
    "states_breweries.head()\n",
    "\n"
   ]
  },
  {
   "cell_type": "code",
   "execution_count": null,
   "metadata": {},
   "outputs": [],
   "source": []
  }
 ],
 "metadata": {
  "kernelspec": {
   "display_name": "Python 3",
   "language": "python",
   "name": "python3"
  },
  "language_info": {
   "codemirror_mode": {
    "name": "ipython",
    "version": 3
   },
   "file_extension": ".py",
   "mimetype": "text/x-python",
   "name": "python",
   "nbconvert_exporter": "python",
   "pygments_lexer": "ipython3",
   "version": "3.6.7"
  }
 },
 "nbformat": 4,
 "nbformat_minor": 2
}
