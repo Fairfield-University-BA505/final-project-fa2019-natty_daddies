{
 "cells": [
  {
   "cell_type": "markdown",
   "metadata": {},
   "source": [
    "<span style=\"color:#00000; font-family: 'Bebas Neue'; font-size: 2.25em;\">**Finding Descriptive Statistics in American Brewery and Beer Data**</span>\n",
    "\n",
    "<span style=\"color:#00000;; font-family: 'Bebas Neue'; font-size: 1.25em;\">**by: Pritpal Bhangu, Sean Bernard, Andre Loukrezis & Bridget Weill**</span>\n",
    "\n",
    "\n",
    "\n",
    "\n",
    "\n",
    "\n",
    "<img src =  'https://cdn.pixabay.com/photo/2016/07/13/01/01/beer-1513436_960_720.jpg' width=\"800\" height=\"800\" />\n",
    "\n",
    "##### *Source: Pixabay*\n",
    "\n",
    "# Project Objective\n",
    "\n",
    "\n",
    "In this project, we looked at United States brewery and beer data to determine multiple descriptive statistics such as which states have the most breweries, which breweries produce the beers with the highest ABV, etc.\n",
    "\n",
    "\n",
    "### Questions to Answer\n",
    "\n",
    "- Which state has the highest number of breweries? \n",
    "- Which city has the highest number of breweries? \n",
    "- Which breweries serve the beers with the highest alcohol content?\n",
    "\n",
    "\n",
    "- Which is the most popular beer style in US? \n",
    "- What is the average alcohol content by brand?\n",
    "- What is the average alcohol content by beer type?\n",
    "- What is the average alcohol content by state?\n",
    "\n",
    "- What is the most popular beer in Connecticut?\n",
    "- What is the average alcohol content of beers in Connecticut?\n",
    "- How many breweries are there in Connecticut?\n",
    "\n",
    "\n",
    "### Data Source\n",
    "\n",
    "The data used in this project comes from the following: \n",
    "\n",
    "- Brewery and Beer Types Data - https://www.kaggle.com/nickhould/craft-cans\n",
    "- Census Region Classifications Data - \n",
    "\n",
    "\n",
    "\n",
    "\n",
    "### Glossary\n",
    "\n",
    "**ABV:** \n",
    "\n",
    "*Alcohol by volume*, a standard measure of how much alcohol (ethanol) is contained in a given volume of an alcoholic beverage (expressed as a volume percent).It is defined as the number of millilitres (mL) of pure ethanol present in 100 mL (3.4 fl. oz) of solution at 20 °C (68 °F). The number of millilitres of pure ethanol is the mass of the ethanol divided by its density at 20 °C, which is 0.78924 g/mL (105.3 fl oz/gallon). (Wikipedia)\n",
    "\n",
    "**Pandas:** \n",
    "is an open source, BSD-licensed library providing high-performance, easy-to-use data structures and data analysis tools for the Python programming language.\n",
    "\n",
    "**Numpy:** \n",
    "is the fundamental package for scientific computing with Python. It contains among other things:\n",
    "\n",
    "a powerful N-dimensional array object\n",
    "\n",
    "sophisticated (broadcasting) functions\n",
    "\n",
    "tools for integrating C/C++ and Fortran code\n",
    "\n",
    "useful linear algebra, Fourier transform, and random number capabilities\n",
    "\n",
    "Besides its obvious scientific uses, NumPy can also be used as an efficient multi-dimensional container of generic data. Arbitrary data-types can be defined. This allows NumPy to seamlessly and speedily integrate with a wide variety of databases.\n",
    "\n",
    "**Matplotlib:**\n",
    "is a Python 2D plotting library which produces publication quality figures in a variety of hardcopy formats and interactive environments across platforms. Matplotlib can be used in Python scripts, the Python and IPython shells, the Jupyter notebook, web application servers, and four graphical user interface toolkits.\n",
    "\n",
    "Python’s fundamental plotting library (pg. 50 Pandas Textbook)\n",
    "\n",
    "**Seaborn:**  \n",
    "\n",
    "a library that builds on matplotlib by providing a higher-level interface for statistical graphics. It provides an interface to produce prettier and more complex visualizations with fewer lines of code.\n",
    "\n",
    "The seaborn library is tightly integrated with Pandas and the rest of the PyData stack (numpy, scipy, statsmodels), making visualizations from any part of the data analysis process a breeze. Since seaborn is built on top of matplotlib, the user still has the ability to fine-tune the visualizations. (pg. 61 Pandas Textbook)\n",
    "\n",
    "\n",
    "### Data Dictionary\n",
    "\n",
    "| Column | Definition | \n",
    "| ------------ | ---------- | \n",
    "| Unnamed | Row number |\n",
    "| abv | The alcoholic content by volume with 0 being no alcohol and 1 being pure alcohol |\n",
    "| ibu | International bittering units, which describe how bitter a drink is. |\n",
    "| id | Unique ID |\n",
    "| name | Name of the beer. |\n",
    "| style | Beer style (lager, pale ale, IPA, etc.) |\n",
    "| brewery_id | Unique identifier for brewery that produces this beer; can use to join with brewery info. |\n",
    "| ounces | Size of beer in ounces. |\n",
    "| name | Name of the brewery |\n",
    "| city | City that the brewery is located in. |\n",
    "| state | State that the brewery is located in.|\n",
    "|city, state| City and State that the brewery is located in. |\n",
    "| Points | Wine Spectator tasters review wines on a 100-point scale (see below) |\n",
    "| Designation | A vineyard designated wine is a wine produced from the product of a single vineyard with that vineyard's name appearing on the wine label |\n",
    "\n",
    "  #### Wine Points Scale: \n",
    "| Points | Explanation | \n",
    "| ------------ | ---------- | \n",
    "| 95-100 | Classic: a great wine | \n",
    "| 90-94  | Outstanding: a wine of superior character and style |\n",
    "| 85-89 | Very good: a wine with special qualities |\n",
    "| 80-84 | Good: a solid, well-made wine |\n",
    "| 75-79 | Mediocre: a drinkable wine that may have minor flaws |\n",
    "| 50-74 | Not recommended |\n"
   ]
  },
  {
   "cell_type": "markdown",
   "metadata": {},
   "source": [
    "### Import Data"
   ]
  },
  {
   "cell_type": "code",
   "execution_count": 508,
   "metadata": {},
   "outputs": [],
   "source": [
    "# Import all necessary libraries.\n",
    "\n",
    "import pandas as pd\n",
    "import numpy as np\n",
    "import matplotlib.pylab as plt\n",
    "%matplotlib inline\n",
    "plt.style.use('fivethirtyeight')\n",
    "import seaborn as sns\n",
    "from numpy import median\n",
    "\n",
    "# Upload csv files into dataframes.\n",
    "\n",
    "beers_df = pd.read_csv('beers.csv') \n",
    "breweries_df = pd.read_csv('breweries.csv') \n",
    "winery_df = pd.read_csv('winery.csv',delimiter=';')\n",
    "uswinery_df = pd.read_csv('uswinery.csv')\n",
    "    # delimiter=';' because the data is seperated by ;"
   ]
  },
  {
   "cell_type": "markdown",
   "metadata": {},
   "source": [
    "### **Data Check and Cleanup**\n",
    "\n",
    "##### Before proceding with finding any insights from the data sets, we must first look at the integrity of the data, see how much data we are working with, the size and datatypes within the data, if there are any null values, and if so remove or replace them within the dataframe."
   ]
  },
  {
   "cell_type": "code",
   "execution_count": 509,
   "metadata": {},
   "outputs": [
    {
     "data": {
      "text/html": [
       "<div>\n",
       "<style scoped>\n",
       "    .dataframe tbody tr th:only-of-type {\n",
       "        vertical-align: middle;\n",
       "    }\n",
       "\n",
       "    .dataframe tbody tr th {\n",
       "        vertical-align: top;\n",
       "    }\n",
       "\n",
       "    .dataframe thead th {\n",
       "        text-align: right;\n",
       "    }\n",
       "</style>\n",
       "<table border=\"1\" class=\"dataframe\">\n",
       "  <thead>\n",
       "    <tr style=\"text-align: right;\">\n",
       "      <th></th>\n",
       "      <th>Unnamed: 0</th>\n",
       "      <th>abv</th>\n",
       "      <th>ibu</th>\n",
       "      <th>id</th>\n",
       "      <th>name</th>\n",
       "      <th>style</th>\n",
       "      <th>brewery_id</th>\n",
       "      <th>ounces</th>\n",
       "    </tr>\n",
       "  </thead>\n",
       "  <tbody>\n",
       "    <tr>\n",
       "      <th>0</th>\n",
       "      <td>0</td>\n",
       "      <td>0.050</td>\n",
       "      <td>NaN</td>\n",
       "      <td>1436</td>\n",
       "      <td>Pub Beer</td>\n",
       "      <td>American Pale Lager</td>\n",
       "      <td>408</td>\n",
       "      <td>12.0</td>\n",
       "    </tr>\n",
       "    <tr>\n",
       "      <th>1</th>\n",
       "      <td>1</td>\n",
       "      <td>0.066</td>\n",
       "      <td>NaN</td>\n",
       "      <td>2265</td>\n",
       "      <td>Devil's Cup</td>\n",
       "      <td>American Pale Ale (APA)</td>\n",
       "      <td>177</td>\n",
       "      <td>12.0</td>\n",
       "    </tr>\n",
       "    <tr>\n",
       "      <th>2</th>\n",
       "      <td>2</td>\n",
       "      <td>0.071</td>\n",
       "      <td>NaN</td>\n",
       "      <td>2264</td>\n",
       "      <td>Rise of the Phoenix</td>\n",
       "      <td>American IPA</td>\n",
       "      <td>177</td>\n",
       "      <td>12.0</td>\n",
       "    </tr>\n",
       "    <tr>\n",
       "      <th>3</th>\n",
       "      <td>3</td>\n",
       "      <td>0.090</td>\n",
       "      <td>NaN</td>\n",
       "      <td>2263</td>\n",
       "      <td>Sinister</td>\n",
       "      <td>American Double / Imperial IPA</td>\n",
       "      <td>177</td>\n",
       "      <td>12.0</td>\n",
       "    </tr>\n",
       "    <tr>\n",
       "      <th>4</th>\n",
       "      <td>4</td>\n",
       "      <td>0.075</td>\n",
       "      <td>NaN</td>\n",
       "      <td>2262</td>\n",
       "      <td>Sex and Candy</td>\n",
       "      <td>American IPA</td>\n",
       "      <td>177</td>\n",
       "      <td>12.0</td>\n",
       "    </tr>\n",
       "  </tbody>\n",
       "</table>\n",
       "</div>"
      ],
      "text/plain": [
       "   Unnamed: 0    abv  ibu    id                 name  \\\n",
       "0           0  0.050  NaN  1436             Pub Beer   \n",
       "1           1  0.066  NaN  2265          Devil's Cup   \n",
       "2           2  0.071  NaN  2264  Rise of the Phoenix   \n",
       "3           3  0.090  NaN  2263             Sinister   \n",
       "4           4  0.075  NaN  2262        Sex and Candy   \n",
       "\n",
       "                            style  brewery_id  ounces  \n",
       "0             American Pale Lager         408    12.0  \n",
       "1         American Pale Ale (APA)         177    12.0  \n",
       "2                    American IPA         177    12.0  \n",
       "3  American Double / Imperial IPA         177    12.0  \n",
       "4                    American IPA         177    12.0  "
      ]
     },
     "execution_count": 509,
     "metadata": {},
     "output_type": "execute_result"
    }
   ],
   "source": [
    "beers_df\n",
    "beers_df.head()"
   ]
  },
  {
   "cell_type": "code",
   "execution_count": 510,
   "metadata": {},
   "outputs": [
    {
     "data": {
      "text/html": [
       "<div>\n",
       "<style scoped>\n",
       "    .dataframe tbody tr th:only-of-type {\n",
       "        vertical-align: middle;\n",
       "    }\n",
       "\n",
       "    .dataframe tbody tr th {\n",
       "        vertical-align: top;\n",
       "    }\n",
       "\n",
       "    .dataframe thead th {\n",
       "        text-align: right;\n",
       "    }\n",
       "</style>\n",
       "<table border=\"1\" class=\"dataframe\">\n",
       "  <thead>\n",
       "    <tr style=\"text-align: right;\">\n",
       "      <th></th>\n",
       "      <th>ID</th>\n",
       "      <th>name</th>\n",
       "      <th>city</th>\n",
       "      <th>state</th>\n",
       "    </tr>\n",
       "  </thead>\n",
       "  <tbody>\n",
       "    <tr>\n",
       "      <th>0</th>\n",
       "      <td>0</td>\n",
       "      <td>NorthGate Brewing</td>\n",
       "      <td>Minneapolis</td>\n",
       "      <td>MN</td>\n",
       "    </tr>\n",
       "    <tr>\n",
       "      <th>1</th>\n",
       "      <td>1</td>\n",
       "      <td>Against the Grain Brewery</td>\n",
       "      <td>Louisville</td>\n",
       "      <td>KY</td>\n",
       "    </tr>\n",
       "    <tr>\n",
       "      <th>2</th>\n",
       "      <td>2</td>\n",
       "      <td>Jack's Abby Craft Lagers</td>\n",
       "      <td>Framingham</td>\n",
       "      <td>MA</td>\n",
       "    </tr>\n",
       "    <tr>\n",
       "      <th>3</th>\n",
       "      <td>3</td>\n",
       "      <td>Mike Hess Brewing Company</td>\n",
       "      <td>San Diego</td>\n",
       "      <td>CA</td>\n",
       "    </tr>\n",
       "    <tr>\n",
       "      <th>4</th>\n",
       "      <td>4</td>\n",
       "      <td>Fort Point Beer Company</td>\n",
       "      <td>San Francisco</td>\n",
       "      <td>CA</td>\n",
       "    </tr>\n",
       "  </tbody>\n",
       "</table>\n",
       "</div>"
      ],
      "text/plain": [
       "   ID                       name           city state\n",
       "0   0         NorthGate Brewing     Minneapolis    MN\n",
       "1   1  Against the Grain Brewery     Louisville    KY\n",
       "2   2   Jack's Abby Craft Lagers     Framingham    MA\n",
       "3   3  Mike Hess Brewing Company      San Diego    CA\n",
       "4   4    Fort Point Beer Company  San Francisco    CA"
      ]
     },
     "execution_count": 510,
     "metadata": {},
     "output_type": "execute_result"
    }
   ],
   "source": [
    "breweries_df\n",
    "breweries_df.head()"
   ]
  },
  {
   "cell_type": "code",
   "execution_count": 511,
   "metadata": {},
   "outputs": [
    {
     "data": {
      "text/html": [
       "<div>\n",
       "<style scoped>\n",
       "    .dataframe tbody tr th:only-of-type {\n",
       "        vertical-align: middle;\n",
       "    }\n",
       "\n",
       "    .dataframe tbody tr th {\n",
       "        vertical-align: top;\n",
       "    }\n",
       "\n",
       "    .dataframe thead th {\n",
       "        text-align: right;\n",
       "    }\n",
       "</style>\n",
       "<table border=\"1\" class=\"dataframe\">\n",
       "  <thead>\n",
       "    <tr style=\"text-align: right;\">\n",
       "      <th></th>\n",
       "      <th>country</th>\n",
       "      <th>designation</th>\n",
       "      <th>points</th>\n",
       "      <th>price</th>\n",
       "      <th>province</th>\n",
       "      <th>region_1</th>\n",
       "      <th>region_2</th>\n",
       "      <th>variety</th>\n",
       "      <th>winery</th>\n",
       "      <th>last_year_points,,</th>\n",
       "    </tr>\n",
       "  </thead>\n",
       "  <tbody>\n",
       "    <tr>\n",
       "      <th>0</th>\n",
       "      <td>US</td>\n",
       "      <td>Martha's Vineyard</td>\n",
       "      <td>96.0</td>\n",
       "      <td>235.0</td>\n",
       "      <td>California</td>\n",
       "      <td>Napa Valley</td>\n",
       "      <td>Napa</td>\n",
       "      <td>Cabernet Sauvignon</td>\n",
       "      <td>Heitz</td>\n",
       "      <td>94,,</td>\n",
       "    </tr>\n",
       "    <tr>\n",
       "      <th>1</th>\n",
       "      <td>Spain</td>\n",
       "      <td>Carodorum Selección Especial Reserva</td>\n",
       "      <td>96.0</td>\n",
       "      <td>110.0</td>\n",
       "      <td>Northern Spain</td>\n",
       "      <td>Toro</td>\n",
       "      <td>NaN</td>\n",
       "      <td>Tinta de Toro</td>\n",
       "      <td>Bodega Carmen Rodríguez</td>\n",
       "      <td>92,,</td>\n",
       "    </tr>\n",
       "    <tr>\n",
       "      <th>2</th>\n",
       "      <td>US</td>\n",
       "      <td>Special Selected Late Harvest</td>\n",
       "      <td>96.0</td>\n",
       "      <td>90.0</td>\n",
       "      <td>California</td>\n",
       "      <td>Knights Valley</td>\n",
       "      <td>Sonoma</td>\n",
       "      <td>Sauvignon Blanc</td>\n",
       "      <td>Macauley</td>\n",
       "      <td>100,,</td>\n",
       "    </tr>\n",
       "    <tr>\n",
       "      <th>3</th>\n",
       "      <td>US</td>\n",
       "      <td>Reserve</td>\n",
       "      <td>96.0</td>\n",
       "      <td>65.0</td>\n",
       "      <td>Oregon</td>\n",
       "      <td>Willamette Valley</td>\n",
       "      <td>Willamette Valley</td>\n",
       "      <td>Pinot Noir</td>\n",
       "      <td>Ponzi</td>\n",
       "      <td>94,,</td>\n",
       "    </tr>\n",
       "    <tr>\n",
       "      <th>4</th>\n",
       "      <td>France</td>\n",
       "      <td>La Brûlade</td>\n",
       "      <td>95.0</td>\n",
       "      <td>66.0</td>\n",
       "      <td>Provence</td>\n",
       "      <td>Bandol</td>\n",
       "      <td>NaN</td>\n",
       "      <td>Provence red blend</td>\n",
       "      <td>Domaine de la Bégude</td>\n",
       "      <td>94,,</td>\n",
       "    </tr>\n",
       "  </tbody>\n",
       "</table>\n",
       "</div>"
      ],
      "text/plain": [
       "  country                           designation  points  price  \\\n",
       "0      US                     Martha's Vineyard    96.0  235.0   \n",
       "1   Spain  Carodorum Selección Especial Reserva    96.0  110.0   \n",
       "2      US         Special Selected Late Harvest    96.0   90.0   \n",
       "3      US                               Reserve    96.0   65.0   \n",
       "4  France                            La Brûlade    95.0   66.0   \n",
       "\n",
       "         province           region_1           region_2             variety  \\\n",
       "0      California        Napa Valley               Napa  Cabernet Sauvignon   \n",
       "1  Northern Spain               Toro                NaN       Tinta de Toro   \n",
       "2      California     Knights Valley             Sonoma     Sauvignon Blanc   \n",
       "3          Oregon  Willamette Valley  Willamette Valley          Pinot Noir   \n",
       "4        Provence             Bandol                NaN  Provence red blend   \n",
       "\n",
       "                    winery last_year_points,,  \n",
       "0                    Heitz               94,,  \n",
       "1  Bodega Carmen Rodríguez               92,,  \n",
       "2                 Macauley              100,,  \n",
       "3                    Ponzi               94,,  \n",
       "4     Domaine de la Bégude               94,,  "
      ]
     },
     "execution_count": 511,
     "metadata": {},
     "output_type": "execute_result"
    }
   ],
   "source": [
    "winery_df\n",
    "winery_df.head()"
   ]
  },
  {
   "cell_type": "code",
   "execution_count": 512,
   "metadata": {},
   "outputs": [
    {
     "data": {
      "text/html": [
       "<div>\n",
       "<style scoped>\n",
       "    .dataframe tbody tr th:only-of-type {\n",
       "        vertical-align: middle;\n",
       "    }\n",
       "\n",
       "    .dataframe tbody tr th {\n",
       "        vertical-align: top;\n",
       "    }\n",
       "\n",
       "    .dataframe thead th {\n",
       "        text-align: right;\n",
       "    }\n",
       "</style>\n",
       "<table border=\"1\" class=\"dataframe\">\n",
       "  <thead>\n",
       "    <tr style=\"text-align: right;\">\n",
       "      <th></th>\n",
       "      <th>Winery Name</th>\n",
       "      <th>State</th>\n",
       "      <th>Web Site</th>\n",
       "    </tr>\n",
       "  </thead>\n",
       "  <tbody>\n",
       "    <tr>\n",
       "      <th>0</th>\n",
       "      <td>14 Hands</td>\n",
       "      <td>WA</td>\n",
       "      <td>www.14handswine.com</td>\n",
       "    </tr>\n",
       "    <tr>\n",
       "      <th>1</th>\n",
       "      <td>Abacela Vineyards &amp; Winery</td>\n",
       "      <td>OR</td>\n",
       "      <td>www.abacela.com</td>\n",
       "    </tr>\n",
       "    <tr>\n",
       "      <th>2</th>\n",
       "      <td>Abarbanel Wine Co.</td>\n",
       "      <td>NY</td>\n",
       "      <td>www.kosher-wine.com</td>\n",
       "    </tr>\n",
       "    <tr>\n",
       "      <th>3</th>\n",
       "      <td>Abbott Winery</td>\n",
       "      <td>CA</td>\n",
       "      <td>www.abbottwinery.com</td>\n",
       "    </tr>\n",
       "    <tr>\n",
       "      <th>4</th>\n",
       "      <td>Abeja</td>\n",
       "      <td>WA</td>\n",
       "      <td>www.abeja.net</td>\n",
       "    </tr>\n",
       "  </tbody>\n",
       "</table>\n",
       "</div>"
      ],
      "text/plain": [
       "                  Winery Name State              Web Site\n",
       "0                    14 Hands    WA   www.14handswine.com\n",
       "1  Abacela Vineyards & Winery    OR       www.abacela.com\n",
       "2          Abarbanel Wine Co.    NY   www.kosher-wine.com\n",
       "3               Abbott Winery    CA  www.abbottwinery.com\n",
       "4                       Abeja    WA         www.abeja.net"
      ]
     },
     "execution_count": 512,
     "metadata": {},
     "output_type": "execute_result"
    }
   ],
   "source": [
    "uswinery_df\n",
    "uswinery_df.head()"
   ]
  },
  {
   "cell_type": "code",
   "execution_count": 513,
   "metadata": {},
   "outputs": [
    {
     "name": "stdout",
     "output_type": "stream",
     "text": [
      "<class 'pandas.core.frame.DataFrame'>\n",
      "RangeIndex: 2410 entries, 0 to 2409\n",
      "Data columns (total 8 columns):\n",
      "Unnamed: 0    2410 non-null int64\n",
      "abv           2348 non-null float64\n",
      "ibu           1405 non-null float64\n",
      "id            2410 non-null int64\n",
      "name          2410 non-null object\n",
      "style         2405 non-null object\n",
      "brewery_id    2410 non-null int64\n",
      "ounces        2410 non-null float64\n",
      "dtypes: float64(3), int64(3), object(2)\n",
      "memory usage: 150.8+ KB\n"
     ]
    },
    {
     "data": {
      "text/plain": [
       "(2410, 8)"
      ]
     },
     "execution_count": 513,
     "metadata": {},
     "output_type": "execute_result"
    }
   ],
   "source": [
    "# Check how much data were working with\n",
    "\n",
    "beers_df.info()\n",
    "beers_df.shape \n",
    "\n",
    "# 2410 rows, 8 columns"
   ]
  },
  {
   "cell_type": "code",
   "execution_count": 514,
   "metadata": {},
   "outputs": [
    {
     "name": "stdout",
     "output_type": "stream",
     "text": [
      "<class 'pandas.core.frame.DataFrame'>\n",
      "RangeIndex: 558 entries, 0 to 557\n",
      "Data columns (total 4 columns):\n",
      "ID       558 non-null int64\n",
      "name     558 non-null object\n",
      "city     558 non-null object\n",
      "state    558 non-null object\n",
      "dtypes: int64(1), object(3)\n",
      "memory usage: 17.6+ KB\n"
     ]
    },
    {
     "data": {
      "text/plain": [
       "(558, 4)"
      ]
     },
     "execution_count": 514,
     "metadata": {},
     "output_type": "execute_result"
    }
   ],
   "source": [
    "breweries_df.info()\n",
    "breweries_df.shape \n",
    "\n",
    "# 558 rows, 4 columns"
   ]
  },
  {
   "cell_type": "code",
   "execution_count": 515,
   "metadata": {},
   "outputs": [
    {
     "name": "stdout",
     "output_type": "stream",
     "text": [
      "<class 'pandas.core.frame.DataFrame'>\n",
      "RangeIndex: 144037 entries, 0 to 144036\n",
      "Data columns (total 10 columns):\n",
      "country               144035 non-null object\n",
      "designation           100208 non-null object\n",
      "points                144029 non-null float64\n",
      "price                 130638 non-null float64\n",
      "province              144027 non-null object\n",
      "region_1              120189 non-null object\n",
      "region_2              58375 non-null object\n",
      "variety               144029 non-null object\n",
      "winery                144029 non-null object\n",
      "last_year_points,,    144034 non-null object\n",
      "dtypes: float64(2), object(8)\n",
      "memory usage: 11.0+ MB\n"
     ]
    },
    {
     "data": {
      "text/plain": [
       "(144037, 10)"
      ]
     },
     "execution_count": 515,
     "metadata": {},
     "output_type": "execute_result"
    }
   ],
   "source": [
    "winery_df.info()\n",
    "winery_df.shape \n",
    "\n",
    "# 144037 rows, 10 columns"
   ]
  },
  {
   "cell_type": "code",
   "execution_count": 516,
   "metadata": {},
   "outputs": [
    {
     "name": "stdout",
     "output_type": "stream",
     "text": [
      "<class 'pandas.core.frame.DataFrame'>\n",
      "RangeIndex: 2900 entries, 0 to 2899\n",
      "Data columns (total 3 columns):\n",
      "Winery Name    2900 non-null object\n",
      "State          2900 non-null object\n",
      "Web Site       2482 non-null object\n",
      "dtypes: object(3)\n",
      "memory usage: 68.1+ KB\n"
     ]
    },
    {
     "data": {
      "text/plain": [
       "(2900, 3)"
      ]
     },
     "execution_count": 516,
     "metadata": {},
     "output_type": "execute_result"
    }
   ],
   "source": [
    "uswinery_df.info()\n",
    "uswinery_df.shape\n",
    "\n",
    "# 2900 rows, 3 columns"
   ]
  },
  {
   "cell_type": "code",
   "execution_count": 517,
   "metadata": {},
   "outputs": [
    {
     "data": {
      "text/plain": [
       "Unnamed: 0    False\n",
       "abv            True\n",
       "ibu            True\n",
       "id            False\n",
       "name          False\n",
       "style          True\n",
       "brewery_id    False\n",
       "ounces        False\n",
       "dtype: bool"
      ]
     },
     "execution_count": 517,
     "metadata": {},
     "output_type": "execute_result"
    }
   ],
   "source": [
    "# We first use .isna().any to check if there are any null values in the data set.\n",
    "\n",
    "beers_df.isna().any()\n",
    "\n",
    "# We have found that the \"abv\", \"ibu\" and \"style\" categories all have True values, meaning that they have null data \n",
    "# in their columns."
   ]
  },
  {
   "cell_type": "code",
   "execution_count": 518,
   "metadata": {},
   "outputs": [
    {
     "data": {
      "text/plain": [
       "ID       False\n",
       "name     False\n",
       "city     False\n",
       "state    False\n",
       "dtype: bool"
      ]
     },
     "execution_count": 518,
     "metadata": {},
     "output_type": "execute_result"
    }
   ],
   "source": [
    "# After checking for any missing value, we can see that there are no missing values in the breweries dataset.\n",
    "\n",
    "breweries_df.isna().any()"
   ]
  },
  {
   "cell_type": "code",
   "execution_count": 519,
   "metadata": {},
   "outputs": [
    {
     "data": {
      "text/plain": [
       "country               True\n",
       "designation           True\n",
       "points                True\n",
       "price                 True\n",
       "province              True\n",
       "region_1              True\n",
       "region_2              True\n",
       "variety               True\n",
       "winery                True\n",
       "last_year_points,,    True\n",
       "dtype: bool"
      ]
     },
     "execution_count": 519,
     "metadata": {},
     "output_type": "execute_result"
    }
   ],
   "source": [
    "winery_df.isna().any()\n",
    "\n",
    "# Missing something in every category"
   ]
  },
  {
   "cell_type": "code",
   "execution_count": 520,
   "metadata": {},
   "outputs": [
    {
     "data": {
      "text/plain": [
       "Winery Name    False\n",
       "State          False\n",
       "Web Site        True\n",
       "dtype: bool"
      ]
     },
     "execution_count": 520,
     "metadata": {},
     "output_type": "execute_result"
    }
   ],
   "source": [
    "uswinery_df.isna().any()\n",
    "\n",
    "# missing web sites"
   ]
  },
  {
   "cell_type": "code",
   "execution_count": 521,
   "metadata": {},
   "outputs": [
    {
     "data": {
      "text/plain": [
       "Winery Name      0\n",
       "State            0\n",
       "Web Site       418\n",
       "dtype: int64"
      ]
     },
     "execution_count": 521,
     "metadata": {},
     "output_type": "execute_result"
    }
   ],
   "source": [
    "uswinery_df.isna().sum()\n",
    "\n",
    "# 418 missing websites"
   ]
  },
  {
   "cell_type": "code",
   "execution_count": 522,
   "metadata": {},
   "outputs": [
    {
     "data": {
      "text/plain": [
       "Unnamed: 0       0\n",
       "abv             62\n",
       "ibu           1005\n",
       "id               0\n",
       "name             0\n",
       "style            5\n",
       "brewery_id       0\n",
       "ounces           0\n",
       "dtype: int64"
      ]
     },
     "execution_count": 522,
     "metadata": {},
     "output_type": "execute_result"
    }
   ],
   "source": [
    "# As we can see, there are 1,005 values missing from the \"ibu\" category, 62 values missing from the \"abv\" category\n",
    "# and 5 values missing from the \"style\" category. \n",
    "\n",
    "beers_df.isna().sum()"
   ]
  },
  {
   "cell_type": "code",
   "execution_count": 523,
   "metadata": {},
   "outputs": [
    {
     "data": {
      "text/plain": [
       "Unnamed: 0     0.00\n",
       "abv            2.57\n",
       "ibu           41.70\n",
       "id             0.00\n",
       "name           0.00\n",
       "style          0.21\n",
       "brewery_id     0.00\n",
       "ounces         0.00\n",
       "dtype: float64"
      ]
     },
     "execution_count": 523,
     "metadata": {},
     "output_type": "execute_result"
    }
   ],
   "source": [
    "# We can see that roughly 58% of the data points in the 'ibu' category are missing.\n",
    "# Because of this, and because this does not contribute any significant insight into\n",
    "# our analysis of beer types at the varying breweries, we will drop this category once\n",
    "# finish doing our initial data integrity check. \n",
    "\n",
    "(beers_df.isna().sum()/beers_df.shape[0]).round(4) * 100"
   ]
  },
  {
   "cell_type": "code",
   "execution_count": 524,
   "metadata": {},
   "outputs": [
    {
     "data": {
      "text/html": [
       "<div>\n",
       "<style scoped>\n",
       "    .dataframe tbody tr th:only-of-type {\n",
       "        vertical-align: middle;\n",
       "    }\n",
       "\n",
       "    .dataframe tbody tr th {\n",
       "        vertical-align: top;\n",
       "    }\n",
       "\n",
       "    .dataframe thead th {\n",
       "        text-align: right;\n",
       "    }\n",
       "</style>\n",
       "<table border=\"1\" class=\"dataframe\">\n",
       "  <thead>\n",
       "    <tr style=\"text-align: right;\">\n",
       "      <th></th>\n",
       "      <th>Unnamed: 0</th>\n",
       "      <th>abv</th>\n",
       "      <th>ibu</th>\n",
       "      <th>id</th>\n",
       "      <th>name</th>\n",
       "      <th>style</th>\n",
       "      <th>brewery_id</th>\n",
       "      <th>ounces</th>\n",
       "    </tr>\n",
       "  </thead>\n",
       "  <tbody>\n",
       "    <tr>\n",
       "      <th>0</th>\n",
       "      <td>0</td>\n",
       "      <td>0.05</td>\n",
       "      <td>NaN</td>\n",
       "      <td>1436</td>\n",
       "      <td>Pub Beer</td>\n",
       "      <td>American Pale Lager</td>\n",
       "      <td>408</td>\n",
       "      <td>12.0</td>\n",
       "    </tr>\n",
       "    <tr>\n",
       "      <th>1</th>\n",
       "      <td>1</td>\n",
       "      <td>0.07</td>\n",
       "      <td>NaN</td>\n",
       "      <td>2265</td>\n",
       "      <td>Devil's Cup</td>\n",
       "      <td>American Pale Ale (APA)</td>\n",
       "      <td>177</td>\n",
       "      <td>12.0</td>\n",
       "    </tr>\n",
       "    <tr>\n",
       "      <th>2</th>\n",
       "      <td>2</td>\n",
       "      <td>0.07</td>\n",
       "      <td>NaN</td>\n",
       "      <td>2264</td>\n",
       "      <td>Rise of the Phoenix</td>\n",
       "      <td>American IPA</td>\n",
       "      <td>177</td>\n",
       "      <td>12.0</td>\n",
       "    </tr>\n",
       "    <tr>\n",
       "      <th>3</th>\n",
       "      <td>3</td>\n",
       "      <td>0.09</td>\n",
       "      <td>NaN</td>\n",
       "      <td>2263</td>\n",
       "      <td>Sinister</td>\n",
       "      <td>American Double / Imperial IPA</td>\n",
       "      <td>177</td>\n",
       "      <td>12.0</td>\n",
       "    </tr>\n",
       "    <tr>\n",
       "      <th>4</th>\n",
       "      <td>4</td>\n",
       "      <td>0.07</td>\n",
       "      <td>NaN</td>\n",
       "      <td>2262</td>\n",
       "      <td>Sex and Candy</td>\n",
       "      <td>American IPA</td>\n",
       "      <td>177</td>\n",
       "      <td>12.0</td>\n",
       "    </tr>\n",
       "  </tbody>\n",
       "</table>\n",
       "</div>"
      ],
      "text/plain": [
       "   Unnamed: 0   abv  ibu    id                 name  \\\n",
       "0           0  0.05  NaN  1436             Pub Beer   \n",
       "1           1  0.07  NaN  2265          Devil's Cup   \n",
       "2           2  0.07  NaN  2264  Rise of the Phoenix   \n",
       "3           3  0.09  NaN  2263             Sinister   \n",
       "4           4  0.07  NaN  2262        Sex and Candy   \n",
       "\n",
       "                            style  brewery_id  ounces  \n",
       "0             American Pale Lager         408    12.0  \n",
       "1         American Pale Ale (APA)         177    12.0  \n",
       "2                    American IPA         177    12.0  \n",
       "3  American Double / Imperial IPA         177    12.0  \n",
       "4                    American IPA         177    12.0  "
      ]
     },
     "execution_count": 524,
     "metadata": {},
     "output_type": "execute_result"
    }
   ],
   "source": [
    "# Round \"abv\" in the beers dataframe to 2 decimal points to help with graphs\n",
    "\n",
    "decimals = 2    \n",
    "beers_df['abv'] = beers_df['abv'].apply(lambda x: round(x, decimals))\n",
    "beers_df.head()"
   ]
  },
  {
   "cell_type": "code",
   "execution_count": 525,
   "metadata": {},
   "outputs": [
    {
     "data": {
      "text/plain": [
       "ID       0\n",
       "name     0\n",
       "city     0\n",
       "state    0\n",
       "dtype: int64"
      ]
     },
     "execution_count": 525,
     "metadata": {},
     "output_type": "execute_result"
    }
   ],
   "source": [
    "# After checking for any missing value, we can see that there are no missing values in the breweries dataset.\n",
    "breweries_df.isna().sum()"
   ]
  },
  {
   "cell_type": "code",
   "execution_count": 526,
   "metadata": {},
   "outputs": [
    {
     "data": {
      "text/plain": [
       "ID       0.0\n",
       "name     0.0\n",
       "city     0.0\n",
       "state    0.0\n",
       "dtype: float64"
      ]
     },
     "execution_count": 526,
     "metadata": {},
     "output_type": "execute_result"
    }
   ],
   "source": [
    "# After checking for any missing value, we can see that there are no missing values in the breweries dataset\n",
    "# and there will be no % missing values unlike in the beers.csv dataset.\n",
    "\n",
    "(breweries_df.isna().sum()/breweries_df.shape[0]).round(4) * 100"
   ]
  },
  {
   "cell_type": "code",
   "execution_count": 527,
   "metadata": {},
   "outputs": [
    {
     "data": {
      "text/plain": [
       "country                   2\n",
       "designation           43829\n",
       "points                    8\n",
       "price                 13399\n",
       "province                 10\n",
       "region_1              23848\n",
       "region_2              85662\n",
       "variety                   8\n",
       "winery                    8\n",
       "last_year_points,,        3\n",
       "dtype: int64"
      ]
     },
     "execution_count": 527,
     "metadata": {},
     "output_type": "execute_result"
    }
   ],
   "source": [
    "winery_df.isna().sum()\n",
    "\n",
    "# there are missing values in all the columns\n"
   ]
  },
  {
   "cell_type": "code",
   "execution_count": 528,
   "metadata": {},
   "outputs": [],
   "source": [
    "# rename province to state and last_year_points,, to last_year_points\n",
    "\n",
    "winery_df.rename(columns={'province':'state','last_year_points,,':'last_year_points'}, inplace=True)"
   ]
  },
  {
   "cell_type": "code",
   "execution_count": 529,
   "metadata": {},
   "outputs": [],
   "source": [
    "# delete the commas out of last years points\n",
    "\n",
    "winery_df['last_year_points']=winery_df['last_year_points'].str.replace(',','')"
   ]
  },
  {
   "cell_type": "code",
   "execution_count": 530,
   "metadata": {},
   "outputs": [
    {
     "data": {
      "text/plain": [
       "Unnamed: 0      int64\n",
       "abv           float64\n",
       "ibu           float64\n",
       "id              int64\n",
       "name           object\n",
       "style          object\n",
       "brewery_id      int64\n",
       "ounces        float64\n",
       "dtype: object"
      ]
     },
     "execution_count": 530,
     "metadata": {},
     "output_type": "execute_result"
    }
   ],
   "source": [
    "beers_df.dtypes"
   ]
  },
  {
   "cell_type": "code",
   "execution_count": 531,
   "metadata": {},
   "outputs": [
    {
     "data": {
      "text/plain": [
       "ID        int64\n",
       "name     object\n",
       "city     object\n",
       "state    object\n",
       "dtype: object"
      ]
     },
     "execution_count": 531,
     "metadata": {},
     "output_type": "execute_result"
    }
   ],
   "source": [
    "breweries_df.dtypes"
   ]
  },
  {
   "cell_type": "code",
   "execution_count": 532,
   "metadata": {},
   "outputs": [
    {
     "data": {
      "text/plain": [
       "country              object\n",
       "designation          object\n",
       "points              float64\n",
       "price               float64\n",
       "state                object\n",
       "region_1             object\n",
       "region_2             object\n",
       "variety              object\n",
       "winery               object\n",
       "last_year_points     object\n",
       "dtype: object"
      ]
     },
     "execution_count": 532,
     "metadata": {},
     "output_type": "execute_result"
    }
   ],
   "source": [
    "winery_df.dtypes"
   ]
  },
  {
   "cell_type": "code",
   "execution_count": 533,
   "metadata": {},
   "outputs": [
    {
     "data": {
      "text/plain": [
       "Winery Name    object\n",
       "State          object\n",
       "Web Site       object\n",
       "dtype: object"
      ]
     },
     "execution_count": 533,
     "metadata": {},
     "output_type": "execute_result"
    }
   ],
   "source": [
    "uswinery_df.dtypes"
   ]
  },
  {
   "cell_type": "markdown",
   "metadata": {},
   "source": [
    "#### Removing Columns of Data\n",
    "\n",
    "We will drop columns that are missing enough data points where it would be not beneficial to include them into any of our analyses. "
   ]
  },
  {
   "cell_type": "code",
   "execution_count": 534,
   "metadata": {},
   "outputs": [],
   "source": [
    "# Because 'ibu' has over over 58% of the data points,\n",
    "\n",
    "beers_df.drop(columns = 'ibu', inplace=True)"
   ]
  },
  {
   "cell_type": "code",
   "execution_count": 535,
   "metadata": {},
   "outputs": [
    {
     "data": {
      "text/plain": [
       "Unnamed: 0      int64\n",
       "abv           float64\n",
       "id              int64\n",
       "name           object\n",
       "style          object\n",
       "brewery_id      int64\n",
       "ounces        float64\n",
       "dtype: object"
      ]
     },
     "execution_count": 535,
     "metadata": {},
     "output_type": "execute_result"
    }
   ],
   "source": [
    "beers_df.dtypes"
   ]
  },
  {
   "cell_type": "code",
   "execution_count": 536,
   "metadata": {},
   "outputs": [
    {
     "data": {
      "text/html": [
       "<div>\n",
       "<style scoped>\n",
       "    .dataframe tbody tr th:only-of-type {\n",
       "        vertical-align: middle;\n",
       "    }\n",
       "\n",
       "    .dataframe tbody tr th {\n",
       "        vertical-align: top;\n",
       "    }\n",
       "\n",
       "    .dataframe thead th {\n",
       "        text-align: right;\n",
       "    }\n",
       "</style>\n",
       "<table border=\"1\" class=\"dataframe\">\n",
       "  <thead>\n",
       "    <tr style=\"text-align: right;\">\n",
       "      <th></th>\n",
       "      <th>Winery Name</th>\n",
       "      <th>State</th>\n",
       "    </tr>\n",
       "  </thead>\n",
       "  <tbody>\n",
       "    <tr>\n",
       "      <th>0</th>\n",
       "      <td>14 Hands</td>\n",
       "      <td>WA</td>\n",
       "    </tr>\n",
       "    <tr>\n",
       "      <th>1</th>\n",
       "      <td>Abacela Vineyards &amp; Winery</td>\n",
       "      <td>OR</td>\n",
       "    </tr>\n",
       "    <tr>\n",
       "      <th>2</th>\n",
       "      <td>Abarbanel Wine Co.</td>\n",
       "      <td>NY</td>\n",
       "    </tr>\n",
       "    <tr>\n",
       "      <th>3</th>\n",
       "      <td>Abbott Winery</td>\n",
       "      <td>CA</td>\n",
       "    </tr>\n",
       "    <tr>\n",
       "      <th>4</th>\n",
       "      <td>Abeja</td>\n",
       "      <td>WA</td>\n",
       "    </tr>\n",
       "  </tbody>\n",
       "</table>\n",
       "</div>"
      ],
      "text/plain": [
       "                  Winery Name State\n",
       "0                    14 Hands    WA\n",
       "1  Abacela Vineyards & Winery    OR\n",
       "2          Abarbanel Wine Co.    NY\n",
       "3               Abbott Winery    CA\n",
       "4                       Abeja    WA"
      ]
     },
     "execution_count": 536,
     "metadata": {},
     "output_type": "execute_result"
    }
   ],
   "source": [
    "# delete the website column because we do not need it \n",
    "\n",
    "uswinery_df.drop(columns = 'Web Site', inplace=True)\n",
    "uswinery_df.head()"
   ]
  },
  {
   "cell_type": "markdown",
   "metadata": {},
   "source": [
    "#### Adding Columns of Data\n",
    "\n",
    "We will be adding coumns of data that may become necessary for analyses throughout this presentation due to the current data's inability to possible find insights in its current state.\n"
   ]
  },
  {
   "cell_type": "code",
   "execution_count": 537,
   "metadata": {},
   "outputs": [
    {
     "data": {
      "text/plain": [
       "city\n",
       "Lexington         2\n",
       "Ashland           2\n",
       "Springfield       2\n",
       "Portland          2\n",
       "Newport           2\n",
       "Silverton         2\n",
       "Bloomington       2\n",
       "Birmingham        2\n",
       "Jackson           2\n",
       "Columbus          2\n",
       "Marquette         2\n",
       "Aurora            2\n",
       "Athens            2\n",
       "Lyons             2\n",
       "Greenville        2\n",
       "Rochester         2\n",
       "Richmond          2\n",
       "Fredericksburg    1\n",
       "Fuquay-Varina     1\n",
       "Eagle             1\n",
       "Name: state, dtype: int64"
      ]
     },
     "execution_count": 537,
     "metadata": {},
     "output_type": "execute_result"
    }
   ],
   "source": [
    "# Because we are looking at grographical data in these data sets, one thing to make a note of is that many times\n",
    "# a state can have the same name of a city that exists in another state. It may not be a consideration when one\n",
    "# focuses on only finding descriptive statistics about a city like New York City, Boston or Los Angeles, but there\n",
    "# are many other lesser known cities that exist in multiple states.\n",
    "\n",
    "# As we can see below, in the breweries dataframe there are multiple cities that exist in more than one state.\n",
    "\n",
    "breweries_df.groupby('city')['state'].nunique().sort_values(ascending=False).head(20)"
   ]
  },
  {
   "cell_type": "code",
   "execution_count": 538,
   "metadata": {},
   "outputs": [
    {
     "data": {
      "text/html": [
       "<div>\n",
       "<style scoped>\n",
       "    .dataframe tbody tr th:only-of-type {\n",
       "        vertical-align: middle;\n",
       "    }\n",
       "\n",
       "    .dataframe tbody tr th {\n",
       "        vertical-align: top;\n",
       "    }\n",
       "\n",
       "    .dataframe thead th {\n",
       "        text-align: right;\n",
       "    }\n",
       "</style>\n",
       "<table border=\"1\" class=\"dataframe\">\n",
       "  <thead>\n",
       "    <tr style=\"text-align: right;\">\n",
       "      <th></th>\n",
       "      <th>ID</th>\n",
       "      <th>name</th>\n",
       "      <th>city</th>\n",
       "      <th>state</th>\n",
       "      <th>city_state</th>\n",
       "    </tr>\n",
       "  </thead>\n",
       "  <tbody>\n",
       "    <tr>\n",
       "      <th>0</th>\n",
       "      <td>0</td>\n",
       "      <td>NorthGate Brewing</td>\n",
       "      <td>Minneapolis</td>\n",
       "      <td>MN</td>\n",
       "      <td>Minneapolis,  MN</td>\n",
       "    </tr>\n",
       "    <tr>\n",
       "      <th>1</th>\n",
       "      <td>1</td>\n",
       "      <td>Against the Grain Brewery</td>\n",
       "      <td>Louisville</td>\n",
       "      <td>KY</td>\n",
       "      <td>Louisville,  KY</td>\n",
       "    </tr>\n",
       "    <tr>\n",
       "      <th>2</th>\n",
       "      <td>2</td>\n",
       "      <td>Jack's Abby Craft Lagers</td>\n",
       "      <td>Framingham</td>\n",
       "      <td>MA</td>\n",
       "      <td>Framingham,  MA</td>\n",
       "    </tr>\n",
       "    <tr>\n",
       "      <th>3</th>\n",
       "      <td>3</td>\n",
       "      <td>Mike Hess Brewing Company</td>\n",
       "      <td>San Diego</td>\n",
       "      <td>CA</td>\n",
       "      <td>San Diego,  CA</td>\n",
       "    </tr>\n",
       "    <tr>\n",
       "      <th>4</th>\n",
       "      <td>4</td>\n",
       "      <td>Fort Point Beer Company</td>\n",
       "      <td>San Francisco</td>\n",
       "      <td>CA</td>\n",
       "      <td>San Francisco,  CA</td>\n",
       "    </tr>\n",
       "  </tbody>\n",
       "</table>\n",
       "</div>"
      ],
      "text/plain": [
       "   ID                       name           city state          city_state\n",
       "0   0         NorthGate Brewing     Minneapolis    MN    Minneapolis,  MN\n",
       "1   1  Against the Grain Brewery     Louisville    KY     Louisville,  KY\n",
       "2   2   Jack's Abby Craft Lagers     Framingham    MA     Framingham,  MA\n",
       "3   3  Mike Hess Brewing Company      San Diego    CA      San Diego,  CA\n",
       "4   4    Fort Point Beer Company  San Francisco    CA  San Francisco,  CA"
      ]
     },
     "execution_count": 538,
     "metadata": {},
     "output_type": "execute_result"
    }
   ],
   "source": [
    "# In order to rectify this problem, we will create a unique ID concatenating the city and state colums\n",
    "# of the breweries dataframe in order to create unique locations for each brewery. \n",
    "\n",
    "breweries_df['city_state'] = breweries_df['city'].str.cat(breweries_df['state'],sep=\", \")\n",
    "breweries_df.head()"
   ]
  },
  {
   "cell_type": "code",
   "execution_count": 539,
   "metadata": {},
   "outputs": [
    {
     "data": {
      "text/html": [
       "<div>\n",
       "<style scoped>\n",
       "    .dataframe tbody tr th:only-of-type {\n",
       "        vertical-align: middle;\n",
       "    }\n",
       "\n",
       "    .dataframe tbody tr th {\n",
       "        vertical-align: top;\n",
       "    }\n",
       "\n",
       "    .dataframe thead th {\n",
       "        text-align: right;\n",
       "    }\n",
       "</style>\n",
       "<table border=\"1\" class=\"dataframe\">\n",
       "  <thead>\n",
       "    <tr style=\"text-align: right;\">\n",
       "      <th></th>\n",
       "      <th>country</th>\n",
       "      <th>designation</th>\n",
       "      <th>points</th>\n",
       "      <th>price</th>\n",
       "      <th>state</th>\n",
       "      <th>region_1</th>\n",
       "      <th>region_2</th>\n",
       "      <th>variety</th>\n",
       "      <th>winery</th>\n",
       "      <th>last_year_points</th>\n",
       "      <th>state_abbrev</th>\n",
       "    </tr>\n",
       "  </thead>\n",
       "  <tbody>\n",
       "    <tr>\n",
       "      <th>0</th>\n",
       "      <td>US</td>\n",
       "      <td>Martha's Vineyard</td>\n",
       "      <td>96.0</td>\n",
       "      <td>235.0</td>\n",
       "      <td>California</td>\n",
       "      <td>Napa Valley</td>\n",
       "      <td>Napa</td>\n",
       "      <td>Cabernet Sauvignon</td>\n",
       "      <td>Heitz</td>\n",
       "      <td>94</td>\n",
       "      <td>CA</td>\n",
       "    </tr>\n",
       "    <tr>\n",
       "      <th>1</th>\n",
       "      <td>Spain</td>\n",
       "      <td>Carodorum Selección Especial Reserva</td>\n",
       "      <td>96.0</td>\n",
       "      <td>110.0</td>\n",
       "      <td>Northern Spain</td>\n",
       "      <td>Toro</td>\n",
       "      <td>NaN</td>\n",
       "      <td>Tinta de Toro</td>\n",
       "      <td>Bodega Carmen Rodríguez</td>\n",
       "      <td>92</td>\n",
       "      <td>NaN</td>\n",
       "    </tr>\n",
       "    <tr>\n",
       "      <th>2</th>\n",
       "      <td>US</td>\n",
       "      <td>Special Selected Late Harvest</td>\n",
       "      <td>96.0</td>\n",
       "      <td>90.0</td>\n",
       "      <td>California</td>\n",
       "      <td>Knights Valley</td>\n",
       "      <td>Sonoma</td>\n",
       "      <td>Sauvignon Blanc</td>\n",
       "      <td>Macauley</td>\n",
       "      <td>100</td>\n",
       "      <td>CA</td>\n",
       "    </tr>\n",
       "    <tr>\n",
       "      <th>3</th>\n",
       "      <td>US</td>\n",
       "      <td>Reserve</td>\n",
       "      <td>96.0</td>\n",
       "      <td>65.0</td>\n",
       "      <td>Oregon</td>\n",
       "      <td>Willamette Valley</td>\n",
       "      <td>Willamette Valley</td>\n",
       "      <td>Pinot Noir</td>\n",
       "      <td>Ponzi</td>\n",
       "      <td>94</td>\n",
       "      <td>OR</td>\n",
       "    </tr>\n",
       "    <tr>\n",
       "      <th>4</th>\n",
       "      <td>France</td>\n",
       "      <td>La Brûlade</td>\n",
       "      <td>95.0</td>\n",
       "      <td>66.0</td>\n",
       "      <td>Provence</td>\n",
       "      <td>Bandol</td>\n",
       "      <td>NaN</td>\n",
       "      <td>Provence red blend</td>\n",
       "      <td>Domaine de la Bégude</td>\n",
       "      <td>94</td>\n",
       "      <td>NaN</td>\n",
       "    </tr>\n",
       "  </tbody>\n",
       "</table>\n",
       "</div>"
      ],
      "text/plain": [
       "  country                           designation  points  price  \\\n",
       "0      US                     Martha's Vineyard    96.0  235.0   \n",
       "1   Spain  Carodorum Selección Especial Reserva    96.0  110.0   \n",
       "2      US         Special Selected Late Harvest    96.0   90.0   \n",
       "3      US                               Reserve    96.0   65.0   \n",
       "4  France                            La Brûlade    95.0   66.0   \n",
       "\n",
       "            state           region_1           region_2             variety  \\\n",
       "0      California        Napa Valley               Napa  Cabernet Sauvignon   \n",
       "1  Northern Spain               Toro                NaN       Tinta de Toro   \n",
       "2      California     Knights Valley             Sonoma     Sauvignon Blanc   \n",
       "3          Oregon  Willamette Valley  Willamette Valley          Pinot Noir   \n",
       "4        Provence             Bandol                NaN  Provence red blend   \n",
       "\n",
       "                    winery last_year_points state_abbrev  \n",
       "0                    Heitz               94           CA  \n",
       "1  Bodega Carmen Rodríguez               92          NaN  \n",
       "2                 Macauley              100           CA  \n",
       "3                    Ponzi               94           OR  \n",
       "4     Domaine de la Bégude               94          NaN  "
      ]
     },
     "execution_count": 539,
     "metadata": {},
     "output_type": "execute_result"
    }
   ],
   "source": [
    "# add the US state abbreviations into a column\n",
    "# https://gist.github.com/rogerallen/1583593 -- dictionary source\n",
    "\n",
    "us_state_abbrev = {\n",
    "    'Alabama': 'AL',\n",
    "    'Alaska': 'AK',\n",
    "    'Arizona': 'AZ',\n",
    "    'Arkansas': 'AR',\n",
    "    'California': 'CA',\n",
    "    'Colorado': 'CO',\n",
    "    'Connecticut': 'CT',\n",
    "    'Delaware': 'DE',\n",
    "    'District of Columbia': 'DC',\n",
    "    'Florida': 'FL',\n",
    "    'Georgia': 'GA',\n",
    "    'Hawaii': 'HI',\n",
    "    'Idaho': 'ID',\n",
    "    'Illinois': 'IL',\n",
    "    'Indiana': 'IN',\n",
    "    'Iowa': 'IA',\n",
    "    'Kansas': 'KS',\n",
    "    'Kentucky': 'KY',\n",
    "    'Louisiana': 'LA',\n",
    "    'Maine': 'ME',\n",
    "    'Maryland': 'MD',\n",
    "    'Massachusetts': 'MA',\n",
    "    'Michigan': 'MI',\n",
    "    'Minnesota': 'MN',\n",
    "    'Mississippi': 'MS',\n",
    "    'Missouri': 'MO',\n",
    "    'Montana': 'MT',\n",
    "    'Nebraska': 'NE',\n",
    "    'Nevada': 'NV',\n",
    "    'New Hampshire': 'NH',\n",
    "    'New Jersey': 'NJ',\n",
    "    'New Mexico': 'NM',\n",
    "    'New York': 'NY',\n",
    "    'North Carolina': 'NC',\n",
    "    'North Dakota': 'ND',\n",
    "    'Northern Mariana Islands':'MP',\n",
    "    'Ohio': 'OH',\n",
    "    'Oklahoma': 'OK',\n",
    "    'Oregon': 'OR',\n",
    "    'Palau': 'PW',\n",
    "    'Pennsylvania': 'PA',\n",
    "    'Puerto Rico': 'PR',\n",
    "    'Rhode Island': 'RI',\n",
    "    'South Carolina': 'SC',\n",
    "    'South Dakota': 'SD',\n",
    "    'Tennessee': 'TN',\n",
    "    'Texas': 'TX',\n",
    "    'Utah': 'UT',\n",
    "    'Vermont': 'VT',\n",
    "    'Virgin Islands': 'VI',\n",
    "    'Virginia': 'VA',\n",
    "    'Washington': 'WA',\n",
    "    'West Virginia': 'WV',\n",
    "    'Wisconsin': 'WI',\n",
    "    'Wyoming': 'WY',\n",
    "    'Washington DC':'DC'\n",
    "}\n",
    "winery_df['state_abbrev'] = winery_df['state'].map(us_state_abbrev)\n",
    "winery_df.head()"
   ]
  },
  {
   "cell_type": "code",
   "execution_count": 540,
   "metadata": {},
   "outputs": [
    {
     "data": {
      "text/html": [
       "<div>\n",
       "<style scoped>\n",
       "    .dataframe tbody tr th:only-of-type {\n",
       "        vertical-align: middle;\n",
       "    }\n",
       "\n",
       "    .dataframe tbody tr th {\n",
       "        vertical-align: top;\n",
       "    }\n",
       "\n",
       "    .dataframe thead th {\n",
       "        text-align: right;\n",
       "    }\n",
       "</style>\n",
       "<table border=\"1\" class=\"dataframe\">\n",
       "  <thead>\n",
       "    <tr style=\"text-align: right;\">\n",
       "      <th></th>\n",
       "      <th>country</th>\n",
       "      <th>designation</th>\n",
       "      <th>points</th>\n",
       "      <th>price</th>\n",
       "      <th>state</th>\n",
       "      <th>region_1</th>\n",
       "      <th>region_2</th>\n",
       "      <th>variety</th>\n",
       "      <th>winery</th>\n",
       "      <th>last_year_points</th>\n",
       "      <th>state_abbrev</th>\n",
       "      <th>city_state</th>\n",
       "    </tr>\n",
       "  </thead>\n",
       "  <tbody>\n",
       "    <tr>\n",
       "      <th>0</th>\n",
       "      <td>US</td>\n",
       "      <td>Martha's Vineyard</td>\n",
       "      <td>96.0</td>\n",
       "      <td>235.0</td>\n",
       "      <td>California</td>\n",
       "      <td>Napa Valley</td>\n",
       "      <td>Napa</td>\n",
       "      <td>Cabernet Sauvignon</td>\n",
       "      <td>Heitz</td>\n",
       "      <td>94</td>\n",
       "      <td>CA</td>\n",
       "      <td>Napa, CA</td>\n",
       "    </tr>\n",
       "    <tr>\n",
       "      <th>1</th>\n",
       "      <td>Spain</td>\n",
       "      <td>Carodorum Selección Especial Reserva</td>\n",
       "      <td>96.0</td>\n",
       "      <td>110.0</td>\n",
       "      <td>Northern Spain</td>\n",
       "      <td>Toro</td>\n",
       "      <td>NaN</td>\n",
       "      <td>Tinta de Toro</td>\n",
       "      <td>Bodega Carmen Rodríguez</td>\n",
       "      <td>92</td>\n",
       "      <td>NaN</td>\n",
       "      <td>NaN</td>\n",
       "    </tr>\n",
       "    <tr>\n",
       "      <th>2</th>\n",
       "      <td>US</td>\n",
       "      <td>Special Selected Late Harvest</td>\n",
       "      <td>96.0</td>\n",
       "      <td>90.0</td>\n",
       "      <td>California</td>\n",
       "      <td>Knights Valley</td>\n",
       "      <td>Sonoma</td>\n",
       "      <td>Sauvignon Blanc</td>\n",
       "      <td>Macauley</td>\n",
       "      <td>100</td>\n",
       "      <td>CA</td>\n",
       "      <td>Sonoma, CA</td>\n",
       "    </tr>\n",
       "    <tr>\n",
       "      <th>3</th>\n",
       "      <td>US</td>\n",
       "      <td>Reserve</td>\n",
       "      <td>96.0</td>\n",
       "      <td>65.0</td>\n",
       "      <td>Oregon</td>\n",
       "      <td>Willamette Valley</td>\n",
       "      <td>Willamette Valley</td>\n",
       "      <td>Pinot Noir</td>\n",
       "      <td>Ponzi</td>\n",
       "      <td>94</td>\n",
       "      <td>OR</td>\n",
       "      <td>Willamette Valley, OR</td>\n",
       "    </tr>\n",
       "    <tr>\n",
       "      <th>4</th>\n",
       "      <td>France</td>\n",
       "      <td>La Brûlade</td>\n",
       "      <td>95.0</td>\n",
       "      <td>66.0</td>\n",
       "      <td>Provence</td>\n",
       "      <td>Bandol</td>\n",
       "      <td>NaN</td>\n",
       "      <td>Provence red blend</td>\n",
       "      <td>Domaine de la Bégude</td>\n",
       "      <td>94</td>\n",
       "      <td>NaN</td>\n",
       "      <td>NaN</td>\n",
       "    </tr>\n",
       "  </tbody>\n",
       "</table>\n",
       "</div>"
      ],
      "text/plain": [
       "  country                           designation  points  price  \\\n",
       "0      US                     Martha's Vineyard    96.0  235.0   \n",
       "1   Spain  Carodorum Selección Especial Reserva    96.0  110.0   \n",
       "2      US         Special Selected Late Harvest    96.0   90.0   \n",
       "3      US                               Reserve    96.0   65.0   \n",
       "4  France                            La Brûlade    95.0   66.0   \n",
       "\n",
       "            state           region_1           region_2             variety  \\\n",
       "0      California        Napa Valley               Napa  Cabernet Sauvignon   \n",
       "1  Northern Spain               Toro                NaN       Tinta de Toro   \n",
       "2      California     Knights Valley             Sonoma     Sauvignon Blanc   \n",
       "3          Oregon  Willamette Valley  Willamette Valley          Pinot Noir   \n",
       "4        Provence             Bandol                NaN  Provence red blend   \n",
       "\n",
       "                    winery last_year_points state_abbrev  \\\n",
       "0                    Heitz               94           CA   \n",
       "1  Bodega Carmen Rodríguez               92          NaN   \n",
       "2                 Macauley              100           CA   \n",
       "3                    Ponzi               94           OR   \n",
       "4     Domaine de la Bégude               94          NaN   \n",
       "\n",
       "              city_state  \n",
       "0               Napa, CA  \n",
       "1                    NaN  \n",
       "2             Sonoma, CA  \n",
       "3  Willamette Valley, OR  \n",
       "4                    NaN  "
      ]
     },
     "execution_count": 540,
     "metadata": {},
     "output_type": "execute_result"
    }
   ],
   "source": [
    "winery_df['city_state'] = winery_df['region_2'].str.cat(winery_df['state_abbrev'],sep=\", \")\n",
    "winery_df.head()"
   ]
  },
  {
   "cell_type": "code",
   "execution_count": 541,
   "metadata": {},
   "outputs": [],
   "source": [
    "# since we will be using the wine dataset to compare to the other us datasets, we have to make a seperate dataset that includes \n",
    "# only the US locations\n",
    "\n",
    "# is_US =  winery_df['country']== 'US'\n",
    "# print(is_US.head())\n",
    "    # if true it is US.. \"is_US\" is a type of boolean\n",
    "# uswinery_df = winery_df[is_US]\n",
    "# print(US_winery.shape)\n",
    "    # this narrows it down to only the US rows, which is 59793 rows"
   ]
  },
  {
   "cell_type": "code",
   "execution_count": 542,
   "metadata": {},
   "outputs": [
    {
     "data": {
      "text/plain": [
       "country                 2\n",
       "designation         43829\n",
       "points                  8\n",
       "price               13399\n",
       "state                  10\n",
       "region_1            23848\n",
       "region_2            85662\n",
       "variety                 8\n",
       "winery                  8\n",
       "last_year_points        3\n",
       "state_abbrev        84265\n",
       "city_state          85662\n",
       "dtype: int64"
      ]
     },
     "execution_count": 542,
     "metadata": {},
     "output_type": "execute_result"
    }
   ],
   "source": [
    "winery_df.isna().sum()"
   ]
  },
  {
   "cell_type": "code",
   "execution_count": 543,
   "metadata": {},
   "outputs": [],
   "source": [
    "# winery_df = winery_df[pd.notnull(winery_df['country'])]"
   ]
  },
  {
   "cell_type": "code",
   "execution_count": 544,
   "metadata": {},
   "outputs": [],
   "source": [
    "# some of the data entered is incorrect (america as a state)\n",
    "\n",
    "winery_df.loc[winery_df.designation == 'Estates Villagio', 'state'] = \"California\"\n",
    "winery_df.loc[winery_df.designation == 'Bonita Springs Vineyard Site Archive', 'state'] = \"Arizona\"\n",
    "winery_df.loc[winery_df.designation == 'Delaware Dolce', 'state'] = \"Delaware\"\n",
    "winery_df.loc[winery_df.winery == 'Mount Pleasant Winery', 'state'] = \"Missouri\"\n",
    "winery_df.loc[winery_df.winery == 'Sokol Blosser', 'state'] = \"Oregon\"\n",
    "winery_df.loc[winery_df.winery == '3 Horse Ranch Vineyards', 'state'] = \"Idaho\"\n",
    "winery_df.loc[winery_df.winery == 'Arizona Stronghold', 'state'] = \"Arizona\" \n",
    "winery_df.loc[winery_df.winery == 'Truro', 'state'] = \"Massachusetts\" \n",
    "winery_df.loc[winery_df.winery == 'Clearwater Canyon', 'state'] = \"Idaho\"\n",
    "winery_df.loc[winery_df.winery == 'Margerum', 'state'] = \"California\"\n",
    "winery_df.loc[winery_df.winery == 'Jana', 'state'] = \"California\"\n",
    "winery_df.loc[winery_df.winery == 'Adirondack Winery', 'state'] = \"New York\"\n",
    "winery_df.loc[winery_df.winery == 'David Hill', 'state'] = \"Oregon\"\n",
    "\n",
    "### *** how to get around the '\n",
    "winery_df.loc[winery_df.winery == 'Cooper''s Hawk', 'state'] = \"Illinois\"\n",
    "winery_df.loc[winery_df.winery == 'Ryker''s Cellars', 'state'] = \"Colorado\""
   ]
  },
  {
   "cell_type": "code",
   "execution_count": 545,
   "metadata": {},
   "outputs": [
    {
     "data": {
      "text/html": [
       "<div>\n",
       "<style scoped>\n",
       "    .dataframe tbody tr th:only-of-type {\n",
       "        vertical-align: middle;\n",
       "    }\n",
       "\n",
       "    .dataframe tbody tr th {\n",
       "        vertical-align: top;\n",
       "    }\n",
       "\n",
       "    .dataframe thead th {\n",
       "        text-align: right;\n",
       "    }\n",
       "</style>\n",
       "<table border=\"1\" class=\"dataframe\">\n",
       "  <thead>\n",
       "    <tr style=\"text-align: right;\">\n",
       "      <th></th>\n",
       "      <th>country</th>\n",
       "      <th>designation</th>\n",
       "      <th>points</th>\n",
       "      <th>price</th>\n",
       "      <th>state</th>\n",
       "      <th>region_1</th>\n",
       "      <th>region_2</th>\n",
       "      <th>variety</th>\n",
       "      <th>winery</th>\n",
       "      <th>last_year_points</th>\n",
       "      <th>state_abbrev</th>\n",
       "      <th>city_state</th>\n",
       "    </tr>\n",
       "  </thead>\n",
       "  <tbody>\n",
       "    <tr>\n",
       "      <th>3256</th>\n",
       "      <td>US</td>\n",
       "      <td>R</td>\n",
       "      <td>87.0</td>\n",
       "      <td>23.0</td>\n",
       "      <td>America</td>\n",
       "      <td>NaN</td>\n",
       "      <td>NaN</td>\n",
       "      <td>Red Blend</td>\n",
       "      <td>Ryker's Cellars</td>\n",
       "      <td>97</td>\n",
       "      <td>NaN</td>\n",
       "      <td>NaN</td>\n",
       "    </tr>\n",
       "    <tr>\n",
       "      <th>5439</th>\n",
       "      <td>US</td>\n",
       "      <td>R</td>\n",
       "      <td>86.0</td>\n",
       "      <td>18.0</td>\n",
       "      <td>America</td>\n",
       "      <td>NaN</td>\n",
       "      <td>NaN</td>\n",
       "      <td>Petite Sirah</td>\n",
       "      <td>Ryker's Cellars</td>\n",
       "      <td>97</td>\n",
       "      <td>NaN</td>\n",
       "      <td>NaN</td>\n",
       "    </tr>\n",
       "    <tr>\n",
       "      <th>57933</th>\n",
       "      <td>US</td>\n",
       "      <td>NaN</td>\n",
       "      <td>87.0</td>\n",
       "      <td>18.0</td>\n",
       "      <td>America</td>\n",
       "      <td>NaN</td>\n",
       "      <td>NaN</td>\n",
       "      <td>Shiraz</td>\n",
       "      <td>Cooper's Hawk</td>\n",
       "      <td>86</td>\n",
       "      <td>NaN</td>\n",
       "      <td>NaN</td>\n",
       "    </tr>\n",
       "  </tbody>\n",
       "</table>\n",
       "</div>"
      ],
      "text/plain": [
       "      country designation  points  price    state region_1 region_2  \\\n",
       "3256       US           R    87.0   23.0  America      NaN      NaN   \n",
       "5439       US           R    86.0   18.0  America      NaN      NaN   \n",
       "57933      US         NaN    87.0   18.0  America      NaN      NaN   \n",
       "\n",
       "            variety           winery last_year_points state_abbrev city_state  \n",
       "3256      Red Blend  Ryker's Cellars               97          NaN        NaN  \n",
       "5439   Petite Sirah  Ryker's Cellars               97          NaN        NaN  \n",
       "57933        Shiraz    Cooper's Hawk               86          NaN        NaN  "
      ]
     },
     "execution_count": 545,
     "metadata": {},
     "output_type": "execute_result"
    }
   ],
   "source": [
    "winery_df.loc[winery_df['state'] == 'America']"
   ]
  },
  {
   "cell_type": "markdown",
   "metadata": {},
   "source": [
    "# **Descriptive Analysis**\n",
    "\n",
    "- The following section shows descriptive statistics and complimentary visualizations regarding the beer and brewery dataframes.\n"
   ]
  },
  {
   "cell_type": "markdown",
   "metadata": {},
   "source": [
    "## What States Have the Most Breweries?"
   ]
  },
  {
   "cell_type": "code",
   "execution_count": 546,
   "metadata": {},
   "outputs": [
    {
     "data": {
      "text/plain": [
       "state\n",
       " CO    46\n",
       " CA    39\n",
       " MI    32\n",
       " OR    29\n",
       " TX    28\n",
       " PA    24\n",
       " WA    23\n",
       " MA    23\n",
       " IN    22\n",
       " NC    19\n",
       " WI    19\n",
       " IL    18\n",
       " NY    16\n",
       " VA    15\n",
       " OH    15\n",
       " FL    15\n",
       " AZ    11\n",
       " MN    11\n",
       " MT     9\n",
       " VT     9\n",
       " ME     9\n",
       " MO     9\n",
       " CT     8\n",
       " MD     7\n",
       " AK     7\n",
       " GA     7\n",
       " OK     6\n",
       " ID     5\n",
       " NE     5\n",
       " IA     5\n",
       " RI     5\n",
       " LA     5\n",
       " HI     4\n",
       " WY     4\n",
       " SC     4\n",
       " NM     4\n",
       " UT     4\n",
       " KY     4\n",
       " KS     3\n",
       " AL     3\n",
       " NH     3\n",
       " NJ     3\n",
       " TN     3\n",
       " AR     2\n",
       " DE     2\n",
       " NV     2\n",
       " MS     2\n",
       " SD     1\n",
       " DC     1\n",
       " ND     1\n",
       " WV     1\n",
       "Name: name, dtype: int64"
      ]
     },
     "execution_count": 546,
     "metadata": {},
     "output_type": "execute_result"
    }
   ],
   "source": [
    "# This generates the number of unique breweries that exist in each the state.\n",
    "# we use matplotlib .groupby function to take the brewery names values and group them by state.\n",
    "# note there is 51 states due to DC counting as one.\n",
    "\n",
    "breweries_df.groupby('state')['name'].nunique().sort_values(ascending=False)"
   ]
  },
  {
   "cell_type": "code",
   "execution_count": 547,
   "metadata": {},
   "outputs": [
    {
     "data": {
      "text/plain": [
       "Text(0, 0.5, 'Number of Breweries')"
      ]
     },
     "execution_count": 547,
     "metadata": {},
     "output_type": "execute_result"
    },
    {
     "data": {
      "image/png": "[encoded data removed]",
      "text/plain": [
       "<Figure size 720x360 with 1 Axes>"
      ]
     },
     "metadata": {},
     "output_type": "display_data"
    }
   ],
   "source": [
    "# We then apply \"plot.bar()\" so we can create a graphical representation of the data.\n",
    "# We also set custom widths and color schemes to help better visualize the data.\n",
    "\n",
    "brewery_by_allstates = breweries_df.groupby('state')['name'].nunique().plot.bar(width = .4, color = 'darkred', figsize=(10,5))\n",
    "\n",
    "# customized graph title and axis labels\n",
    "\n",
    "brewery_by_allstates.set_title('States with the Most Breweries',fontsize=20)\n",
    "brewery_by_allstates.set_xlabel('State',fontsize=16)\n",
    "brewery_by_allstates.set_ylabel('Number of Breweries',fontsize=16)"
   ]
  },
  {
   "cell_type": "code",
   "execution_count": 548,
   "metadata": {},
   "outputs": [],
   "source": [
    "plt.rcParams[\"figure.figsize\"] = (7, 5)"
   ]
  },
  {
   "cell_type": "code",
   "execution_count": 549,
   "metadata": {},
   "outputs": [
    {
     "data": {
      "text/plain": [
       "Text(0, 0.5, 'Number of Breweries')"
      ]
     },
     "execution_count": 549,
     "metadata": {},
     "output_type": "execute_result"
    },
    {
     "data": {
      "image/png": "[encoded data removed]",
      "text/plain": [
       "<Figure size 720x360 with 1 Axes>"
      ]
     },
     "metadata": {},
     "output_type": "display_data"
    }
   ],
   "source": [
    "# This generates the number of unique breweries that exist in each of the states.\n",
    "# We then apply \"plot.bar()\"\" so we can create a graphical representation of the data.\n",
    "# Changing the width and color scheme of the graphic also helps for visualization.\n",
    "\n",
    "# To help make more sense from this data visualization, we used \".sort_values(ascending=False)\" to show them in descending order\n",
    "# for each state so we could see the trend of high to low and make some sense of which states have the most\n",
    "# breweries, so we can look for further insights relative to states or breweries themselves.\n",
    "\n",
    "brewery_by_allstates2 = breweries_df.groupby('state')['name'].nunique().sort_values(ascending=False).head(25).plot.bar(width = .4, color = 'darkred', figsize=(10,5))\n",
    "brewery_by_allstates2.set_title('States with the Most Breweries',fontsize=20)\n",
    "brewery_by_allstates2.set_xlabel('State',fontsize=16)\n",
    "brewery_by_allstates2.set_ylabel('Number of Breweries',fontsize=16)"
   ]
  },
  {
   "cell_type": "code",
   "execution_count": 550,
   "metadata": {},
   "outputs": [
    {
     "data": {
      "text/plain": [
       "Text(0, 0.5, 'Number of Breweries')"
      ]
     },
     "execution_count": 550,
     "metadata": {},
     "output_type": "execute_result"
    },
    {
     "data": {
      "image/png": "[encoded data removed]",
      "text/plain": [
       "<Figure size 504x360 with 1 Axes>"
      ]
     },
     "metadata": {},
     "output_type": "display_data"
    }
   ],
   "source": [
    "# We then decided to take this a step further and filter the previous graph down to only the states\n",
    "# with the highest count of breweries. We decided on looking at the top ten.\n",
    "# In addition to that, we have added a title, x-axis label and a y-axis label in order to appropriately\n",
    "# label the visualization. Looking at the below visualization, we will be using the same or similair format\n",
    "# going forward throughout the rest of the presentation.\n",
    "\n",
    "breweries_by_state_df = breweries_df.groupby('state')['name'].nunique().sort_values(ascending=False).head(10).plot.bar(width = .4,color = 'blue')\n",
    "breweries_by_state_df.set_title('States with the Most Breweries',fontsize=16)\n",
    "breweries_by_state_df.set_xlabel('State',fontsize=13)\n",
    "breweries_by_state_df.set_ylabel('Number of Breweries',fontsize=13)\n",
    "\n",
    "# When filtering the breweries dataframe for the states with the most breweries, we found that\n",
    "# Colorado, California, Michigan, Oregaon, Texas, Pennsylvania, Washington, Massachusets, Indiana\n",
    "# and North Carolina were in the top ten.\n"
   ]
  },
  {
   "cell_type": "markdown",
   "metadata": {},
   "source": [
    "## What Are the Top 10 Most Common Beers?\n",
    "- this looks at the most commonly served beer styles in the brewery dataframe.\n",
    "\n",
    "### Steps:\n",
    "- ran groupby function via matplotlib that provided us with the top 10 most common beer types ranked from highest to lowest.\n",
    "- visualized data using various graphs charts, etc."
   ]
  },
  {
   "cell_type": "code",
   "execution_count": 551,
   "metadata": {},
   "outputs": [
    {
     "name": "stdout",
     "output_type": "stream",
     "text": [
      "style\n",
      "American IPA                      424\n",
      "American Pale Ale (APA)           245\n",
      "American Amber / Red Ale          133\n",
      "American Blonde Ale               108\n",
      "American Double / Imperial IPA    105\n",
      "American Pale Wheat Ale            97\n",
      "American Brown Ale                 70\n",
      "American Porter                    68\n",
      "Saison / Farmhouse Ale             52\n",
      "Witbier                            51\n",
      "Name: id, dtype: int64\n"
     ]
    }
   ],
   "source": [
    "# created new output using .groupby() function to get number of beer styles \n",
    "# grouped beer id by the style and sorted in descending order\n",
    "# used head(10) to only show the top 10. \n",
    "\n",
    "beer_styles_df3 = beers_df.groupby('style')['id'].nunique().sort_values(ascending=False).head(10)\n",
    "print(beer_styles_df3)"
   ]
  },
  {
   "cell_type": "markdown",
   "metadata": {},
   "source": [
    "# Findings:\n",
    "\n",
    "- the American IPA came out on top at **424**, and was significantly higher than the remaining top 9.\n",
    "- the APA (American Pale Ale) was a still strong second at **245**.\n",
    "- after these first two, there is a pretty significant drop-off.  The top 2 are clear standouts in the data, so we looked into these further.\n",
    "- a key finding in our research on these two beers is that American IPAs arrived along with American Pale Ale in the early days of American craft brewing. (3)\n",
    "\n",
    "### American IPA\n",
    "\n",
    "- IPA is the most popular style in craft beer, and doesn’t look to be giving up its spot any time soon. Hops are still what define the spiritual center of American craft brewing, and IPA is the flagship style for this ingredient. (3)\n",
    "- Its beginnings closely coincide with the modern craft beer revolution that started in the late 70’s and build to the tidal wave of popularity the U.S. is experiencing today. (4)\n",
    "\n",
    "\n",
    "### American Pale Ale \n",
    "\n",
    "- The style that was more responsible than any other for launching the American craft brewing scene began as a vehicle for expressing the one ingredient that truly distinguished the U.S. from the European nations where most of our classic styles originated: our hops. Big, bold American hops were unlike any varieties grown in the Old World, and first wave American craft brewers planted their flag with the expressive citrus and pine aromas of North American hops like Cascade. (3)\n",
    "\n",
    "# Conclusion:\n",
    "- The findings in our data coincide with this historical research that suggests these two beers were pivotal cornerstones to the American craft brewery movement.  Due to this, they are the most commonly found beers in breweries across the United States."
   ]
  },
  {
   "cell_type": "markdown",
   "metadata": {},
   "source": [
    "### Pie Chart\n",
    "- shows a solid representation of the top 10 most common types and highlights what percentage of the top 10 each beer type owns"
   ]
  },
  {
   "cell_type": "code",
   "execution_count": 552,
   "metadata": {},
   "outputs": [
    {
     "data": {
      "text/plain": [
       "<matplotlib.axes._subplots.AxesSubplot at 0x7f55513edc50>"
      ]
     },
     "execution_count": 552,
     "metadata": {},
     "output_type": "execute_result"
    },
    {
     "data": {
      "image/png": "[encoded data removed]",
      "text/plain": [
       "<Figure size 576x504 with 1 Axes>"
      ]
     },
     "metadata": {},
     "output_type": "display_data"
    }
   ],
   "source": [
    "# create a pie chart showcasing the top 10 beers, and explode out the most common, American IPA\n",
    "\n",
    "# create variable explode to tell the function to only explode the first element by 0.1\n",
    "# exploding is a way to highlight a certain piece of data by slightly separating it from the rest of the pie \n",
    "\n",
    "explode = (0.1, 0, 0, 0, 0, 0, 0, 0, 0, 0)\n",
    "\n",
    "# use matplotlib .pie() function\n",
    "# set custom attributes to make it prettier such as a shadow, figure size, start angle to put the American IPA on the top\n",
    "\n",
    "beer_styles_df3.plot.pie(explode=explode, shadow=True, startangle=20, figsize=(8,7), autopct='%1.1f%%', fontsize=14)"
   ]
  },
  {
   "cell_type": "markdown",
   "metadata": {},
   "source": [
    "### Bar Chart \n",
    "- displays the top 10 most comomon beers in descending order from left to right \n"
   ]
  },
  {
   "cell_type": "code",
   "execution_count": 553,
   "metadata": {},
   "outputs": [
    {
     "ename": "NameError",
     "evalue": "name 'beer_styles_df1' is not defined",
     "output_type": "error",
     "traceback": [
      "\u001b[0;31m---------------------------------------------------------------------------\u001b[0m",
      "\u001b[0;31mNameError\u001b[0m                                 Traceback (most recent call last)",
      "\u001b[0;32m<ipython-input-553-95b58c79e95e>\u001b[0m in \u001b[0;36m<module>\u001b[0;34m\u001b[0m\n\u001b[1;32m      2\u001b[0m \u001b[0;34m\u001b[0m\u001b[0m\n\u001b[1;32m      3\u001b[0m \u001b[0mbeer_styles_df_bar\u001b[0m \u001b[0;34m=\u001b[0m \u001b[0mbeer_styles_df3\u001b[0m\u001b[0;34m.\u001b[0m\u001b[0mplot\u001b[0m\u001b[0;34m.\u001b[0m\u001b[0mbar\u001b[0m\u001b[0;34m(\u001b[0m\u001b[0mwidth\u001b[0m \u001b[0;34m=\u001b[0m \u001b[0;36m.4\u001b[0m\u001b[0;34m,\u001b[0m \u001b[0mcolor\u001b[0m \u001b[0;34m=\u001b[0m \u001b[0;34m'pink'\u001b[0m\u001b[0;34m)\u001b[0m\u001b[0;34m\u001b[0m\u001b[0;34m\u001b[0m\u001b[0m\n\u001b[0;32m----> 4\u001b[0;31m \u001b[0mbeer_styles_df1\u001b[0m\u001b[0;34m.\u001b[0m\u001b[0mset_title\u001b[0m\u001b[0;34m(\u001b[0m\u001b[0;34m''\u001b[0m\u001b[0;34m,\u001b[0m\u001b[0mfontsize\u001b[0m\u001b[0;34m=\u001b[0m\u001b[0;36m20\u001b[0m\u001b[0;34m)\u001b[0m\u001b[0;34m\u001b[0m\u001b[0;34m\u001b[0m\u001b[0m\n\u001b[0m",
      "\u001b[0;31mNameError\u001b[0m: name 'beer_styles_df1' is not defined"
     ]
    },
    {
     "data": {
      "image/png": "[encoded data removed]",
      "text/plain": [
       "<Figure size 504x360 with 1 Axes>"
      ]
     },
     "metadata": {},
     "output_type": "display_data"
    }
   ],
   "source": [
    "# created \n",
    "\n",
    "beer_styles_df_bar = beer_styles_df3.plot.bar(width = .4, color = 'pink')\n",
    "beer_styles_df1.set_title('',fontsize=20)"
   ]
  },
  {
   "cell_type": "markdown",
   "metadata": {},
   "source": [
    "### references:\n",
    "1. set up a basic pie chart in matplotlib  https://matplotlib.org/3.1.1/gallery/pie_and_polar_charts/pie_features.html\n",
    "2. show the values of each beer type https://stackoverflow.com/questions/41088236/how-to-have-actual-values-in-matplotlib-pie-chart-displayed-python?rq=1\n",
    "3. info on craft beer styles https://www.morebeer.com/articles/Popular-Craft-Beer-Styles\n",
    "4. info on craft beer styles https://learn.kegerator.com/american-ipa/ "
   ]
  },
  {
   "cell_type": "code",
   "execution_count": 554,
   "metadata": {},
   "outputs": [
    {
     "data": {
      "text/plain": [
       "Text(0, 0.5, ' ')"
      ]
     },
     "execution_count": 554,
     "metadata": {},
     "output_type": "execute_result"
    },
    {
     "data": {
      "image/png": "[encoded data removed]",
      "text/plain": [
       "<Figure size 504x360 with 1 Axes>"
      ]
     },
     "metadata": {},
     "output_type": "display_data"
    }
   ],
   "source": [
    "# *title and y axis \n",
    "\n",
    "beer_styles_df4 = beers_df.groupby('abv')['id'].nunique().sort_values(ascending=False).head(10).plot.bar(width = .4, color = 'pink')\n",
    "beer_styles_df4.set_title(' ',fontsize=14)\n",
    "beer_styles_df4.set_xlabel('Abv',fontsize=12)\n",
    "beer_styles_df4.set_ylabel(' ',fontsize=12)\n"
   ]
  },
  {
   "cell_type": "code",
   "execution_count": 555,
   "metadata": {},
   "outputs": [
    {
     "data": {
      "text/plain": [
       "<matplotlib.axes._subplots.AxesSubplot at 0x7f5551e5d940>"
      ]
     },
     "execution_count": 555,
     "metadata": {},
     "output_type": "execute_result"
    },
    {
     "data": {
      "image/png": "[encoded data removed]",
      "text/plain": [
       "<Figure size 504x360 with 1 Axes>"
      ]
     },
     "metadata": {},
     "output_type": "display_data"
    }
   ],
   "source": [
    "beers_df.plot.scatter(x='ounces', y='abv')"
   ]
  },
  {
   "cell_type": "code",
   "execution_count": 556,
   "metadata": {},
   "outputs": [
    {
     "data": {
      "text/plain": [
       "brewery_id\n",
       "0       6\n",
       "1      12\n",
       "2       3\n",
       "3       5\n",
       "4       4\n",
       "       ..\n",
       "553     1\n",
       "554     1\n",
       "555     1\n",
       "556     4\n",
       "557     1\n",
       "Name: style, Length: 558, dtype: int64"
      ]
     },
     "execution_count": 556,
     "metadata": {},
     "output_type": "execute_result"
    }
   ],
   "source": [
    "beers_df.groupby('brewery_id')['style'].nunique()"
   ]
  },
  {
   "cell_type": "code",
   "execution_count": 557,
   "metadata": {},
   "outputs": [],
   "source": [
    "#beers_df['name'].value_counts().plot(kind='bar')\n",
    "#plt.title('Beers')\n",
    "#plt.ylabel('Beers')\n",
    "#plt.xlabel('Beers')\n",
    "#plt.xticks(rotation='horizontal')"
   ]
  },
  {
   "cell_type": "code",
   "execution_count": 558,
   "metadata": {},
   "outputs": [
    {
     "data": {
      "text/html": [
       "<div>\n",
       "<style scoped>\n",
       "    .dataframe tbody tr th:only-of-type {\n",
       "        vertical-align: middle;\n",
       "    }\n",
       "\n",
       "    .dataframe tbody tr th {\n",
       "        vertical-align: top;\n",
       "    }\n",
       "\n",
       "    .dataframe thead th {\n",
       "        text-align: right;\n",
       "    }\n",
       "</style>\n",
       "<table border=\"1\" class=\"dataframe\">\n",
       "  <thead>\n",
       "    <tr style=\"text-align: right;\">\n",
       "      <th></th>\n",
       "      <th>ID</th>\n",
       "      <th>name</th>\n",
       "      <th>city</th>\n",
       "      <th>city_state</th>\n",
       "    </tr>\n",
       "    <tr>\n",
       "      <th>state</th>\n",
       "      <th></th>\n",
       "      <th></th>\n",
       "      <th></th>\n",
       "      <th></th>\n",
       "    </tr>\n",
       "  </thead>\n",
       "  <tbody>\n",
       "    <tr>\n",
       "      <th>AK</th>\n",
       "      <td>7</td>\n",
       "      <td>7</td>\n",
       "      <td>7</td>\n",
       "      <td>7</td>\n",
       "    </tr>\n",
       "    <tr>\n",
       "      <th>AL</th>\n",
       "      <td>3</td>\n",
       "      <td>3</td>\n",
       "      <td>3</td>\n",
       "      <td>3</td>\n",
       "    </tr>\n",
       "    <tr>\n",
       "      <th>AR</th>\n",
       "      <td>2</td>\n",
       "      <td>2</td>\n",
       "      <td>2</td>\n",
       "      <td>2</td>\n",
       "    </tr>\n",
       "    <tr>\n",
       "      <th>AZ</th>\n",
       "      <td>11</td>\n",
       "      <td>11</td>\n",
       "      <td>11</td>\n",
       "      <td>11</td>\n",
       "    </tr>\n",
       "    <tr>\n",
       "      <th>CA</th>\n",
       "      <td>39</td>\n",
       "      <td>39</td>\n",
       "      <td>39</td>\n",
       "      <td>39</td>\n",
       "    </tr>\n",
       "  </tbody>\n",
       "</table>\n",
       "</div>"
      ],
      "text/plain": [
       "       ID  name  city  city_state\n",
       "state                            \n",
       " AK     7     7     7           7\n",
       " AL     3     3     3           3\n",
       " AR     2     2     2           2\n",
       " AZ    11    11    11          11\n",
       " CA    39    39    39          39"
      ]
     },
     "execution_count": 558,
     "metadata": {},
     "output_type": "execute_result"
    }
   ],
   "source": [
    "states_breweries=breweries_df.groupby(['state']).count()\n",
    "states_breweries.head()"
   ]
  },
  {
   "cell_type": "code",
   "execution_count": 559,
   "metadata": {},
   "outputs": [],
   "source": [
    "#beers_df['style'].value_counts().plot(kind='bar')\n",
    "#plt.title('Beers')\n",
    "#plt.ylabel('Quantity')\n",
    "#plt.xlabel('Beers')\n",
    "#plt.xticks(rotation='vertical')"
   ]
  },
  {
   "cell_type": "code",
   "execution_count": 560,
   "metadata": {},
   "outputs": [
    {
     "data": {
      "text/html": [
       "<div>\n",
       "<style scoped>\n",
       "    .dataframe tbody tr th:only-of-type {\n",
       "        vertical-align: middle;\n",
       "    }\n",
       "\n",
       "    .dataframe tbody tr th {\n",
       "        vertical-align: top;\n",
       "    }\n",
       "\n",
       "    .dataframe thead th {\n",
       "        text-align: right;\n",
       "    }\n",
       "</style>\n",
       "<table border=\"1\" class=\"dataframe\">\n",
       "  <thead>\n",
       "    <tr style=\"text-align: right;\">\n",
       "      <th></th>\n",
       "      <th>Unnamed: 0</th>\n",
       "      <th>abv</th>\n",
       "      <th>id</th>\n",
       "      <th>name</th>\n",
       "      <th>brewery_id</th>\n",
       "      <th>ounces</th>\n",
       "    </tr>\n",
       "    <tr>\n",
       "      <th>style</th>\n",
       "      <th></th>\n",
       "      <th></th>\n",
       "      <th></th>\n",
       "      <th></th>\n",
       "      <th></th>\n",
       "      <th></th>\n",
       "    </tr>\n",
       "  </thead>\n",
       "  <tbody>\n",
       "    <tr>\n",
       "      <th>Abbey Single Ale</th>\n",
       "      <td>2</td>\n",
       "      <td>2</td>\n",
       "      <td>2</td>\n",
       "      <td>2</td>\n",
       "      <td>2</td>\n",
       "      <td>2</td>\n",
       "    </tr>\n",
       "    <tr>\n",
       "      <th>Altbier</th>\n",
       "      <td>13</td>\n",
       "      <td>13</td>\n",
       "      <td>13</td>\n",
       "      <td>13</td>\n",
       "      <td>13</td>\n",
       "      <td>13</td>\n",
       "    </tr>\n",
       "    <tr>\n",
       "      <th>American Adjunct Lager</th>\n",
       "      <td>18</td>\n",
       "      <td>18</td>\n",
       "      <td>18</td>\n",
       "      <td>18</td>\n",
       "      <td>18</td>\n",
       "      <td>18</td>\n",
       "    </tr>\n",
       "    <tr>\n",
       "      <th>American Amber / Red Ale</th>\n",
       "      <td>133</td>\n",
       "      <td>125</td>\n",
       "      <td>133</td>\n",
       "      <td>133</td>\n",
       "      <td>133</td>\n",
       "      <td>133</td>\n",
       "    </tr>\n",
       "    <tr>\n",
       "      <th>American Amber / Red Lager</th>\n",
       "      <td>29</td>\n",
       "      <td>28</td>\n",
       "      <td>29</td>\n",
       "      <td>29</td>\n",
       "      <td>29</td>\n",
       "      <td>29</td>\n",
       "    </tr>\n",
       "    <tr>\n",
       "      <th>American Barleywine</th>\n",
       "      <td>3</td>\n",
       "      <td>3</td>\n",
       "      <td>3</td>\n",
       "      <td>3</td>\n",
       "      <td>3</td>\n",
       "      <td>3</td>\n",
       "    </tr>\n",
       "    <tr>\n",
       "      <th>American Black Ale</th>\n",
       "      <td>36</td>\n",
       "      <td>35</td>\n",
       "      <td>36</td>\n",
       "      <td>36</td>\n",
       "      <td>36</td>\n",
       "      <td>36</td>\n",
       "    </tr>\n",
       "    <tr>\n",
       "      <th>American Blonde Ale</th>\n",
       "      <td>108</td>\n",
       "      <td>104</td>\n",
       "      <td>108</td>\n",
       "      <td>108</td>\n",
       "      <td>108</td>\n",
       "      <td>108</td>\n",
       "    </tr>\n",
       "    <tr>\n",
       "      <th>American Brown Ale</th>\n",
       "      <td>70</td>\n",
       "      <td>68</td>\n",
       "      <td>70</td>\n",
       "      <td>70</td>\n",
       "      <td>70</td>\n",
       "      <td>70</td>\n",
       "    </tr>\n",
       "    <tr>\n",
       "      <th>American Dark Wheat Ale</th>\n",
       "      <td>7</td>\n",
       "      <td>6</td>\n",
       "      <td>7</td>\n",
       "      <td>7</td>\n",
       "      <td>7</td>\n",
       "      <td>7</td>\n",
       "    </tr>\n",
       "  </tbody>\n",
       "</table>\n",
       "</div>"
      ],
      "text/plain": [
       "                            Unnamed: 0  abv   id  name  brewery_id  ounces\n",
       "style                                                                     \n",
       "Abbey Single Ale                     2    2    2     2           2       2\n",
       "Altbier                             13   13   13    13          13      13\n",
       "American Adjunct Lager              18   18   18    18          18      18\n",
       "American Amber / Red Ale           133  125  133   133         133     133\n",
       "American Amber / Red Lager          29   28   29    29          29      29\n",
       "American Barleywine                  3    3    3     3           3       3\n",
       "American Black Ale                  36   35   36    36          36      36\n",
       "American Blonde Ale                108  104  108   108         108     108\n",
       "American Brown Ale                  70   68   70    70          70      70\n",
       "American Dark Wheat Ale              7    6    7     7           7       7"
      ]
     },
     "execution_count": 560,
     "metadata": {},
     "output_type": "execute_result"
    }
   ],
   "source": [
    "beers_styles = beers_df.groupby(['style']).count()\n",
    "beers_styles.head(10)"
   ]
  },
  {
   "cell_type": "code",
   "execution_count": 561,
   "metadata": {},
   "outputs": [
    {
     "data": {
      "text/html": [
       "<div>\n",
       "<style scoped>\n",
       "    .dataframe tbody tr th:only-of-type {\n",
       "        vertical-align: middle;\n",
       "    }\n",
       "\n",
       "    .dataframe tbody tr th {\n",
       "        vertical-align: top;\n",
       "    }\n",
       "\n",
       "    .dataframe thead th {\n",
       "        text-align: right;\n",
       "    }\n",
       "</style>\n",
       "<table border=\"1\" class=\"dataframe\">\n",
       "  <thead>\n",
       "    <tr style=\"text-align: right;\">\n",
       "      <th></th>\n",
       "      <th>abv</th>\n",
       "    </tr>\n",
       "    <tr>\n",
       "      <th>style</th>\n",
       "      <th></th>\n",
       "    </tr>\n",
       "  </thead>\n",
       "  <tbody>\n",
       "    <tr>\n",
       "      <th>Abbey Single Ale</th>\n",
       "      <td>2</td>\n",
       "    </tr>\n",
       "    <tr>\n",
       "      <th>Altbier</th>\n",
       "      <td>13</td>\n",
       "    </tr>\n",
       "    <tr>\n",
       "      <th>American Adjunct Lager</th>\n",
       "      <td>18</td>\n",
       "    </tr>\n",
       "    <tr>\n",
       "      <th>American Amber / Red Ale</th>\n",
       "      <td>125</td>\n",
       "    </tr>\n",
       "    <tr>\n",
       "      <th>American Amber / Red Lager</th>\n",
       "      <td>28</td>\n",
       "    </tr>\n",
       "    <tr>\n",
       "      <th>American Barleywine</th>\n",
       "      <td>3</td>\n",
       "    </tr>\n",
       "    <tr>\n",
       "      <th>American Black Ale</th>\n",
       "      <td>35</td>\n",
       "    </tr>\n",
       "    <tr>\n",
       "      <th>American Blonde Ale</th>\n",
       "      <td>104</td>\n",
       "    </tr>\n",
       "    <tr>\n",
       "      <th>American Brown Ale</th>\n",
       "      <td>68</td>\n",
       "    </tr>\n",
       "    <tr>\n",
       "      <th>American Dark Wheat Ale</th>\n",
       "      <td>6</td>\n",
       "    </tr>\n",
       "  </tbody>\n",
       "</table>\n",
       "</div>"
      ],
      "text/plain": [
       "                            abv\n",
       "style                          \n",
       "Abbey Single Ale              2\n",
       "Altbier                      13\n",
       "American Adjunct Lager       18\n",
       "American Amber / Red Ale    125\n",
       "American Amber / Red Lager   28\n",
       "American Barleywine           3\n",
       "American Black Ale           35\n",
       "American Blonde Ale         104\n",
       "American Brown Ale           68\n",
       "American Dark Wheat Ale       6"
      ]
     },
     "execution_count": 561,
     "metadata": {},
     "output_type": "execute_result"
    }
   ],
   "source": [
    "beers_styles = beers_df.groupby(['style'])[['abv']].count()\n",
    "beers_styles.head(10)"
   ]
  },
  {
   "cell_type": "code",
   "execution_count": 562,
   "metadata": {},
   "outputs": [
    {
     "data": {
      "image/png": "[encoded data removed]",
      "text/plain": [
       "<Figure size 504x360 with 1 Axes>"
      ]
     },
     "metadata": {},
     "output_type": "display_data"
    }
   ],
   "source": [
    "hist, ax = plt.subplots()\n",
    "ax = sns.distplot(beers_df['brewery_id'], kde=False)\n",
    "ax.set_title('Number of Beers at Each Brewery')\n",
    "ax.set_xlabel('Brewery ID')\n",
    "ax.set_ylabel('Number of Different Beers')\n",
    "plt.show()"
   ]
  },
  {
   "cell_type": "markdown",
   "metadata": {},
   "source": [
    "## Winery Comparison"
   ]
  },
  {
   "cell_type": "code",
   "execution_count": 563,
   "metadata": {},
   "outputs": [
    {
     "data": {
      "text/plain": [
       "<bound method Series.sort_values of State\n",
       "AK       4\n",
       "AL       7\n",
       "AR       6\n",
       "AZ      16\n",
       "CA    1271\n",
       "CO      49\n",
       "CT      18\n",
       "DE       2\n",
       "FL      17\n",
       "GA      14\n",
       "HI       3\n",
       "IA      26\n",
       "ID      28\n",
       "IL      49\n",
       "IN      32\n",
       "KS       9\n",
       "KY      17\n",
       "LA       6\n",
       "MA      17\n",
       "MD      18\n",
       "ME       5\n",
       "MI      46\n",
       "MN      12\n",
       "MO      48\n",
       "MS       4\n",
       "MT       6\n",
       "NC      47\n",
       "ND       2\n",
       "NE      13\n",
       "NH       4\n",
       "NJ      28\n",
       "NM      30\n",
       "NV       2\n",
       "NY     190\n",
       "OH      63\n",
       "OK      25\n",
       "OR     204\n",
       "PA      83\n",
       "RI       4\n",
       "SC       8\n",
       "SD       2\n",
       "TN      26\n",
       "TX      73\n",
       "UT       6\n",
       "VA      85\n",
       "VT      10\n",
       "WA     214\n",
       "WI      28\n",
       "WV      14\n",
       "WY       2\n",
       "Name: Winery Name, dtype: int64>"
      ]
     },
     "execution_count": 563,
     "metadata": {},
     "output_type": "execute_result"
    }
   ],
   "source": [
    "# Which state has the most wineries\n",
    "# This generates the number of unique wineries that exist in each state.\n",
    "# we group the winery name by state using the groupby method\n",
    "# California has the most wineries by over 3 thousand\n",
    "\n",
    "uswinery_df.groupby('State')['Winery Name'].nunique().sort_values"
   ]
  },
  {
   "cell_type": "code",
   "execution_count": 564,
   "metadata": {},
   "outputs": [
    {
     "data": {
      "text/plain": [
       "Text(0, 0.5, 'Number of Wineries')"
      ]
     },
     "execution_count": 564,
     "metadata": {},
     "output_type": "execute_result"
    },
    {
     "data": {
      "image/png": "[encoded data removed]",
      "text/plain": [
       "<Figure size 504x360 with 1 Axes>"
      ]
     },
     "metadata": {},
     "output_type": "display_data"
    }
   ],
   "source": [
    "# this shows the count of wineries per state by the top 10 states on a bar graph\n",
    "# due to california having such a large amount of wineries compared to the other states, this is not a good method to represent the counts\n",
    "\n",
    "winery_by_state = uswinery_df.groupby('State')['Winery Name'].nunique().head(20).sort_values(ascending=False).plot.bar(width = .4,color = 'maroon')\n",
    "winery_by_state.set_title('Top 20 States with the Most Wineries',fontsize=16)\n",
    "winery_by_state.set_xlabel('State',fontsize=13)\n",
    "winery_by_state.set_ylabel('Number of Wineries',fontsize=13)"
   ]
  },
  {
   "cell_type": "code",
   "execution_count": 565,
   "metadata": {},
   "outputs": [
    {
     "data": {
      "image/png": "[encoded data removed]",
      "text/plain": [
       "<Figure size 504x360 with 1 Axes>"
      ]
     },
     "metadata": {},
     "output_type": "display_data"
    }
   ],
   "source": [
    "scatter_plot = plt.figure()\n",
    "axes1 = scatter_plot.add_subplot(1, 1, 1)\n",
    "axes1.scatter(beers_df['brewery_id'], beers_df['abv'])\n",
    "axes1.set_title('Scatterplot of Total Bill vs Tip')\n",
    "axes1.set_xlabel('Total Bill')\n",
    "axes1.set_ylabel('Tip')\n",
    "scatter_plot.show()"
   ]
  },
  {
   "cell_type": "code",
   "execution_count": 566,
   "metadata": {},
   "outputs": [
    {
     "data": {
      "text/plain": [
       "style\n",
       "Abbey Single Ale                      1\n",
       "Altbier                               3\n",
       "American Adjunct Lager                3\n",
       "American Amber / Red Ale              5\n",
       "American Amber / Red Lager            3\n",
       "American Barleywine                   1\n",
       "American Black Ale                    5\n",
       "American Blonde Ale                   4\n",
       "American Brown Ale                    6\n",
       "American Dark Wheat Ale               3\n",
       "American Double / Imperial IPA        4\n",
       "American Double / Imperial Pilsner    2\n",
       "American Double / Imperial Stout      3\n",
       "American IPA                          7\n",
       "American India Pale Lager             2\n",
       "Name: abv, dtype: int64"
      ]
     },
     "execution_count": 566,
     "metadata": {},
     "output_type": "execute_result"
    }
   ],
   "source": [
    "beers_df.groupby('style')['abv'].nunique().head(15)"
   ]
  },
  {
   "cell_type": "code",
   "execution_count": 567,
   "metadata": {},
   "outputs": [],
   "source": [
    "#beers_df.groupby('abv')['style'].value_counts().plot(kind='bar')"
   ]
  },
  {
   "cell_type": "code",
   "execution_count": 568,
   "metadata": {},
   "outputs": [
    {
     "data": {
      "text/plain": [
       "name\n",
       "#001 Golden Amber Lager                   1\n",
       "#002 American I.P.A.                      1\n",
       "#003 Brown & Robust Porter                1\n",
       "#004 Session I.P.A.                       1\n",
       "#9                                        1\n",
       "                                         ..\n",
       "Zen                                       1\n",
       "Zombie Monkie                             1\n",
       "Zonker Stout                              1\n",
       "oSKAr the G'Rauch                         1\n",
       "the Kimmie, the Yink and the Holy Gose    1\n",
       "Name: style, Length: 2305, dtype: int64"
      ]
     },
     "execution_count": 568,
     "metadata": {},
     "output_type": "execute_result"
    }
   ],
   "source": [
    "beers_df.groupby('name')['style'].nunique()"
   ]
  },
  {
   "cell_type": "code",
   "execution_count": 569,
   "metadata": {},
   "outputs": [
    {
     "data": {
      "text/plain": [
       "city\n",
       "Abingdon          1\n",
       "Abita Springs     1\n",
       "Ada               1\n",
       "Afton             1\n",
       "Airway Heights    1\n",
       "                 ..\n",
       "Woodinville       1\n",
       "Worcester         1\n",
       "Yakima            1\n",
       "Yardley           1\n",
       "York              1\n",
       "Name: state, Length: 384, dtype: int64"
      ]
     },
     "execution_count": 569,
     "metadata": {},
     "output_type": "execute_result"
    }
   ],
   "source": [
    "breweries_df.groupby('city')['state'].nunique()"
   ]
  },
  {
   "cell_type": "code",
   "execution_count": 570,
   "metadata": {},
   "outputs": [],
   "source": [
    "#beers_df.unique('ID')"
   ]
  },
  {
   "cell_type": "markdown",
   "metadata": {},
   "source": [
    "<img src = 'https://upload.wikimedia.org/wikipedia/commons/thumb/f/f1/Census_Regions_and_Division_of_the_United_States.svg/1024px-Census_Regions_and_Division_of_the_United_States.svg.png' width=\"600\" height=\"200\" />\n",
    "\n",
    "##### *Source: Wikipedia*\n",
    "\n",
    "\n",
    "\n",
    "\n",
    "\n",
    "**Next Steps:**\n",
    "1. Upload classifications for states into divisions and regions.\n",
    "2. Append the classifications of each state into df_breweries dataframe.\n",
    "3. Run the same descriptive statistics that were previously ran by state, but now for the divisions and regions.\n",
    "4. Create visualizations with results and provide comments."
   ]
  },
  {
   "cell_type": "code",
   "execution_count": 571,
   "metadata": {},
   "outputs": [
    {
     "data": {
      "text/plain": [
       "array([ 7,  3,  2, 11, 39, 47,  8,  1,  2, 15,  7,  4,  5,  5, 18, 22,  3,\n",
       "        4,  5, 23,  7,  9, 32, 12,  9,  2,  9, 19,  1,  5,  3,  3,  4,  2,\n",
       "       16, 15,  6, 29, 25,  5,  4,  1,  3, 28,  4, 16, 10, 23, 20,  1,  4])"
      ]
     },
     "execution_count": 571,
     "metadata": {},
     "output_type": "execute_result"
    }
   ],
   "source": [
    "brewery_per_state_df = np.asarray(breweries_df.groupby('state').state.count())\n",
    "brewery_per_state_df"
   ]
  },
  {
   "cell_type": "code",
   "execution_count": 572,
   "metadata": {},
   "outputs": [
    {
     "data": {
      "text/plain": [
       "city\n",
       "Lexington         2\n",
       "Ashland           2\n",
       "Springfield       2\n",
       "Portland          2\n",
       "Newport           2\n",
       "Silverton         2\n",
       "Bloomington       2\n",
       "Birmingham        2\n",
       "Jackson           2\n",
       "Columbus          2\n",
       "Marquette         2\n",
       "Aurora            2\n",
       "Athens            2\n",
       "Lyons             2\n",
       "Greenville        2\n",
       "Rochester         2\n",
       "Richmond          2\n",
       "Fredericksburg    1\n",
       "Fuquay-Varina     1\n",
       "Eagle             1\n",
       "Gadsden           1\n",
       "Durham            1\n",
       "Gainesville       1\n",
       "Garden City       1\n",
       "Garrattsville     1\n",
       "Name: state, dtype: int64"
      ]
     },
     "execution_count": 572,
     "metadata": {},
     "output_type": "execute_result"
    }
   ],
   "source": [
    "breweries_df.groupby('city')['state'].nunique().sort_values(ascending=False).head(25)"
   ]
  },
  {
   "cell_type": "markdown",
   "metadata": {},
   "source": [
    "## Geopandas"
   ]
  },
  {
   "cell_type": "code",
   "execution_count": 666,
   "metadata": {},
   "outputs": [],
   "source": [
    "import geopandas\n",
    "import geoplot\n",
    "import pandas as pd\n",
    "from shapely import wkt\n",
    "from geopandas import GeoDataFrame\n",
    "from shapely.geometry import Point, LineString, Polygon\n",
    "import re\n",
    "import matplotlib.pyplot as plt\n",
    "import matplotlib.image as mpimg\n",
    "import matplotlib.animation as animation\n",
    "from pathlib import Path\n",
    "from PIL import Image\n",
    "from IPython.display import HTML\n",
    "from matplotlib import animation, rc\n",
    "import plotly.figure_factory as ff"
   ]
  },
  {
   "cell_type": "code",
   "execution_count": 703,
   "metadata": {},
   "outputs": [
    {
     "data": {
      "text/html": [
       "<div>\n",
       "<style scoped>\n",
       "    .dataframe tbody tr th:only-of-type {\n",
       "        vertical-align: middle;\n",
       "    }\n",
       "\n",
       "    .dataframe tbody tr th {\n",
       "        vertical-align: top;\n",
       "    }\n",
       "\n",
       "    .dataframe thead th {\n",
       "        text-align: right;\n",
       "    }\n",
       "</style>\n",
       "<table border=\"1\" class=\"dataframe\">\n",
       "  <thead>\n",
       "    <tr style=\"text-align: right;\">\n",
       "      <th></th>\n",
       "      <th>geometry</th>\n",
       "    </tr>\n",
       "  </thead>\n",
       "  <tbody>\n",
       "    <tr>\n",
       "      <th>0</th>\n",
       "      <td>MULTIPOLYGON (((-160.07380 22.00418, -160.0497...</td>\n",
       "    </tr>\n",
       "    <tr>\n",
       "      <th>1</th>\n",
       "      <td>MULTIPOLYGON (((-122.40202 48.22522, -122.4628...</td>\n",
       "    </tr>\n",
       "  </tbody>\n",
       "</table>\n",
       "</div>"
      ],
      "text/plain": [
       "                                            geometry\n",
       "0  MULTIPOLYGON (((-160.07380 22.00418, -160.0497...\n",
       "1  MULTIPOLYGON (((-122.40202 48.22522, -122.4628..."
      ]
     },
     "execution_count": 703,
     "metadata": {},
     "output_type": "execute_result"
    },
    {
     "data": {
      "image/png": "[encoded data removed]",
      "text/plain": [
       "<Figure size 504x360 with 1 Axes>"
      ]
     },
     "metadata": {},
     "output_type": "display_data"
    }
   ],
   "source": [
    "usa = geopandas.read_file(\"states.shp\")\n",
    "usa.plot()\n",
    "\n",
    "usa_geo = geopandas.GeoDataFrame(usa, crs = {'init' :'epsg:4326'}, geometry = usa.geometry)\n",
    "usa_geo.head(2)"
   ]
  },
  {
   "cell_type": "code",
   "execution_count": 668,
   "metadata": {},
   "outputs": [
    {
     "data": {
      "image/svg+xml": [
       "<svg xmlns=\"http://www.w3.org/2000/svg\" xmlns:xlink=\"http://www.w3.org/1999/xlink\" width=\"100.0\" height=\"100.0\" viewBox=\"-111.33349722007519 40.71422044538282 7.561860847042524 4.56864184425487\" preserveAspectRatio=\"xMinYMin meet\"><g transform=\"matrix(1,0,0,-1,0,85.99708273502051)\"><path fill-rule=\"evenodd\" fill=\"#66cc99\" stroke=\"#555555\" stroke-width=\"0.1512372169408505\" opacity=\"0.6\" d=\"M -104.05361529329527,41.69821836629923 L -104.05550029329702,41.56422236617444 L -104.05401229329564,41.3880853660104 L -104.0517052932935,41.003211365651964 L -104.93449329411565,40.99428936564365 L -105.2787972944363,40.99634936564557 L -106.20347129529748,41.00008536564905 L -106.3291252954145,41.001289365650166 L -106.86543829591398,40.99845736564753 L -107.30405129632247,41.00013336564909 L -107.91867129689489,41.00337536565211 L -109.04831429794694,40.998433365647514 L -110.00216529883528,40.997599365646735 L -110.06318529889211,40.997892365647004 L -111.0510222998121,40.99658336564579 L -111.05165129981269,41.25842536588965 L -111.05106829981216,41.57859236618782 L -111.04869729980994,41.99620336657675 L -111.04678029980816,42.50325236704899 L -111.04921529981043,43.01988336753013 L -111.04749829980882,43.28473436777679 L -111.04677129980816,43.515528367991735 L -111.05040529981153,43.98255336842669 L -111.0515602998126,44.473323368883754 L -111.05161629981266,44.664490369061795 L -111.05342829981436,44.99569536937025 L -110.42964929923342,44.992285369367075 L -110.39276029919905,44.998625369372974 L -109.99552929882911,45.00279336937686 L -109.79938529864643,44.999522369373814 L -108.62525629755294,44.99759336937201 L -108.25923829721206,45.00011536937437 L -107.89437429687226,44.99977336937405 L -106.25923129534941,44.99616236937068 L -106.02115029512768,44.997213369371664 L -105.08500329425583,44.999817369374085 L -105.04179629421559,45.00107636937526 L -104.05984229330106,44.99733636937178 L -104.05946529330072,44.57435236897784 L -104.06103629330218,44.18182536861227 L -104.05973129330096,44.14582536857875 L -104.05947929330073,43.852906368305945 L -104.05791429329928,43.50371236798073 L -104.05915729330043,43.47913436795784 L -104.05619929329767,43.00306236751447 L -104.05621929329769,42.61466936715274 L -104.05351329329517,41.99981536658012 L -104.05361529329527,41.69821836629923 z\" /></g></svg>"
      ],
      "text/plain": [
       "<shapely.geometry.polygon.Polygon at 0x7f554fd80e48>"
      ]
     },
     "execution_count": 668,
     "metadata": {},
     "output_type": "execute_result"
    }
   ],
   "source": [
    "usa.loc[6,\"geometry\"]"
   ]
  },
  {
   "cell_type": "code",
   "execution_count": 669,
   "metadata": {},
   "outputs": [],
   "source": [
    "geopandas_states_abbrev = ['HI',\n",
    "                    'WA',\n",
    "                    'MT',\n",
    "                    'ME',\n",
    "                    'ND',\n",
    "                    'SD',\n",
    "                    'WY',\n",
    "                    'WI',\n",
    "                    'ID',\n",
    "                    'VT',\n",
    "                    'MN',\n",
    "                    'OR',\n",
    "                    'NH',\n",
    "                    'IA',\n",
    "                    'MA',\n",
    "                    'NE',\n",
    "                    'NY',\n",
    "                    'PA',\n",
    "                    'CT',\n",
    "                    'RI',\n",
    "                    'NJ',\n",
    "                    'IN',\n",
    "                    'NV',\n",
    "                    'UT',\n",
    "                    'CA',\n",
    "                    'OH',\n",
    "                    'IL',\n",
    "                    'DC',\n",
    "                    'DE',\n",
    "                    'WV',\n",
    "                    'MD',\n",
    "                    'CO',\n",
    "                    'KY',\n",
    "                    'KA',\n",
    "                    'VA',\n",
    "                    'MO',\n",
    "                    'AZ',\n",
    "                    'OK',\n",
    "                    'NC',\n",
    "                    'TN',\n",
    "                    'TX',\n",
    "                    'NM',\n",
    "                    'AL',\n",
    "                    'MS',\n",
    "                    'GA',\n",
    "                    'SC',\n",
    "                    'AR',\n",
    "                    'LA',\n",
    "                    'FL',\n",
    "                    'MI',\n",
    "                    'AK']"
   ]
  },
  {
   "cell_type": "code",
   "execution_count": 670,
   "metadata": {},
   "outputs": [
    {
     "data": {
      "text/html": [
       "<div>\n",
       "<style scoped>\n",
       "    .dataframe tbody tr th:only-of-type {\n",
       "        vertical-align: middle;\n",
       "    }\n",
       "\n",
       "    .dataframe tbody tr th {\n",
       "        vertical-align: top;\n",
       "    }\n",
       "\n",
       "    .dataframe thead th {\n",
       "        text-align: right;\n",
       "    }\n",
       "</style>\n",
       "<table border=\"1\" class=\"dataframe\">\n",
       "  <thead>\n",
       "    <tr style=\"text-align: right;\">\n",
       "      <th></th>\n",
       "      <th>geometry</th>\n",
       "      <th>state_abbrev</th>\n",
       "    </tr>\n",
       "  </thead>\n",
       "  <tbody>\n",
       "    <tr>\n",
       "      <th>0</th>\n",
       "      <td>MULTIPOLYGON (((-160.07380 22.00418, -160.0497...</td>\n",
       "      <td>HI</td>\n",
       "    </tr>\n",
       "    <tr>\n",
       "      <th>1</th>\n",
       "      <td>MULTIPOLYGON (((-122.40202 48.22522, -122.4628...</td>\n",
       "      <td>WA</td>\n",
       "    </tr>\n",
       "  </tbody>\n",
       "</table>\n",
       "</div>"
      ],
      "text/plain": [
       "                                            geometry state_abbrev\n",
       "0  MULTIPOLYGON (((-160.07380 22.00418, -160.0497...           HI\n",
       "1  MULTIPOLYGON (((-122.40202 48.22522, -122.4628...           WA"
      ]
     },
     "execution_count": 670,
     "metadata": {},
     "output_type": "execute_result"
    }
   ],
   "source": [
    "usa['state_abbrev'] = geopandas_states_abbrev\n",
    "usa.head(2)"
   ]
  },
  {
   "cell_type": "code",
   "execution_count": 671,
   "metadata": {},
   "outputs": [],
   "source": [
    "geopandas_states = {'HI':'Hawaii',\n",
    "                   'WA':'Washington',\n",
    "                   'MT':'Montana',\n",
    "                   'ME': 'Maine',\n",
    "                   'ND': 'North Dakota',\n",
    "                   'SD': 'South Dakota',\n",
    "                   'WY': 'Wyoming',\n",
    "                   'WI': 'Wisconsin',\n",
    "                   'ID': 'Idaho',\n",
    "                   'VT': 'Vermont',\n",
    "                   'MN': 'Minnesota',\n",
    "                   'OR': 'Oregon',\n",
    "                   'NH': 'New Hampshire',\n",
    "                   'IA': 'Iowa',\n",
    "                   'MA': 'Massachusetts',\n",
    "                   'NE': 'Nebraska',\n",
    "                   'NY': 'New York',\n",
    "                   'PA': 'Pennsylvania',\n",
    "                   'CT': 'Connecticut',\n",
    "                   'RI': 'Rhode Island',\n",
    "                   'NJ': 'New Jersey',\n",
    "                   'IN': 'Indiana',\n",
    "                   'NV': 'Nevada',\n",
    "                   'UT': 'Utah',\n",
    "                   'CA': 'California',\n",
    "                   'OH': 'Ohio',\n",
    "                   'IL': 'Illinois',\n",
    "                   'DC': 'Washington DC',\n",
    "                   'DE': 'Delaware',\n",
    "                   'WV': 'West Virginia',\n",
    "                   'MD': 'Maryland',\n",
    "                   'CO': 'Colorado',\n",
    "                   'KY': 'Kentucky',\n",
    "                   'KA': 'Kansas',\n",
    "                   'VA': 'Virginia',\n",
    "                   'MO': 'Missouri',\n",
    "                   'AZ': 'Arizona',\n",
    "                   'OK': 'Oklahoma',\n",
    "                   'NC': 'North Carolina',\n",
    "                   'TN': 'Tennessee',\n",
    "                   'TX': 'Texas',\n",
    "                   'NM': 'New Mexico',\n",
    "                   'AL': 'Alabama',\n",
    "                   'MS': 'Mississippi',\n",
    "                   'GA': 'Georgia',\n",
    "                   'SC': 'South Carolina',\n",
    "                   'AR': 'Arkansas',\n",
    "                   'LA': 'Louisiana',\n",
    "                   'FL': 'Florida',\n",
    "                   'MI': 'Michigan',\n",
    "                   'AK': 'Alaska'\n",
    "                   }"
   ]
  },
  {
   "cell_type": "code",
   "execution_count": 672,
   "metadata": {},
   "outputs": [
    {
     "data": {
      "text/html": [
       "<div>\n",
       "<style scoped>\n",
       "    .dataframe tbody tr th:only-of-type {\n",
       "        vertical-align: middle;\n",
       "    }\n",
       "\n",
       "    .dataframe tbody tr th {\n",
       "        vertical-align: top;\n",
       "    }\n",
       "\n",
       "    .dataframe thead th {\n",
       "        text-align: right;\n",
       "    }\n",
       "</style>\n",
       "<table border=\"1\" class=\"dataframe\">\n",
       "  <thead>\n",
       "    <tr style=\"text-align: right;\">\n",
       "      <th></th>\n",
       "      <th>geometry</th>\n",
       "      <th>state_abbrev</th>\n",
       "      <th>state</th>\n",
       "    </tr>\n",
       "  </thead>\n",
       "  <tbody>\n",
       "    <tr>\n",
       "      <th>0</th>\n",
       "      <td>MULTIPOLYGON (((-160.07380 22.00418, -160.0497...</td>\n",
       "      <td>HI</td>\n",
       "      <td>Hawaii</td>\n",
       "    </tr>\n",
       "    <tr>\n",
       "      <th>1</th>\n",
       "      <td>MULTIPOLYGON (((-122.40202 48.22522, -122.4628...</td>\n",
       "      <td>WA</td>\n",
       "      <td>Washington</td>\n",
       "    </tr>\n",
       "  </tbody>\n",
       "</table>\n",
       "</div>"
      ],
      "text/plain": [
       "                                            geometry state_abbrev       state\n",
       "0  MULTIPOLYGON (((-160.07380 22.00418, -160.0497...           HI      Hawaii\n",
       "1  MULTIPOLYGON (((-122.40202 48.22522, -122.4628...           WA  Washington"
      ]
     },
     "execution_count": 672,
     "metadata": {},
     "output_type": "execute_result"
    }
   ],
   "source": [
    "usa['state'] = usa['state_abbrev'].map(geopandas_states)\n",
    "usa.head(2)"
   ]
  },
  {
   "cell_type": "code",
   "execution_count": 714,
   "metadata": {},
   "outputs": [],
   "source": [
    "abbrev_state = {' HI':'Hawaii',\n",
    "                   ' WA':'Washington',\n",
    "                   ' MT':'Montana',\n",
    "                   ' ME': 'Maine',\n",
    "                   ' ND': 'North Dakota',\n",
    "                   ' SD': 'South Dakota',\n",
    "                   ' WY': 'Wyoming',\n",
    "                   ' WI': 'Wisconsin',\n",
    "                   ' ID': 'Idaho',\n",
    "                   ' VT': 'Vermont',\n",
    "                   ' MN': 'Minnesota',\n",
    "                   ' OR': 'Oregon',\n",
    "                   ' NH': 'New Hampshire',\n",
    "                   ' IA': 'Iowa',\n",
    "                   ' MA': 'Massachusetts',\n",
    "                   ' NE': 'Nebraska',\n",
    "                   ' NY': 'New York',\n",
    "                   ' PA': 'Pennsylvania',\n",
    "                   ' CT': 'Connecticut',\n",
    "                   ' RI': 'Rhode Island',\n",
    "                   ' NJ': 'New Jersey',\n",
    "                   ' IN': 'Indiana',\n",
    "                   ' NV': 'Nevada',\n",
    "                   ' UT': 'Utah',\n",
    "                   ' CA': 'California',\n",
    "                   ' OH': 'Ohio',\n",
    "                   ' IL': 'Illinois',\n",
    "                   ' DC': 'Washington DC',\n",
    "                   ' DE': 'Delaware',\n",
    "                   ' WV': 'West Virginia',\n",
    "                   ' MD': 'Maryland',\n",
    "                   ' CO': 'Colorado',\n",
    "                   ' KY': 'Kentucky',\n",
    "                   ' KS': 'Kansas',\n",
    "                   ' VA': 'Virginia',\n",
    "                   ' MO': 'Missouri',\n",
    "                   ' AZ': 'Arizona',\n",
    "                   ' OK': 'Oklahoma',\n",
    "                   ' NC': 'North Carolina',\n",
    "                   ' TN': 'Tennessee',\n",
    "                   ' TX': 'Texas',\n",
    "                   ' NM': 'New Mexico',\n",
    "                   ' AL': 'Alabama',\n",
    "                   ' MS': 'Mississippi',\n",
    "                   ' GA': 'Georgia',\n",
    "                   ' SC': 'South Carolina',\n",
    "                   ' AR': 'Arkansas',\n",
    "                   ' LA': 'Louisiana',\n",
    "                   ' FL': 'Florida',\n",
    "                   ' MI': 'Michigan',\n",
    "                   ' AK': 'Alaska'\n",
    "                   }"
   ]
  },
  {
   "cell_type": "code",
   "execution_count": 715,
   "metadata": {},
   "outputs": [
    {
     "data": {
      "text/html": [
       "<div>\n",
       "<style scoped>\n",
       "    .dataframe tbody tr th:only-of-type {\n",
       "        vertical-align: middle;\n",
       "    }\n",
       "\n",
       "    .dataframe tbody tr th {\n",
       "        vertical-align: top;\n",
       "    }\n",
       "\n",
       "    .dataframe thead th {\n",
       "        text-align: right;\n",
       "    }\n",
       "</style>\n",
       "<table border=\"1\" class=\"dataframe\">\n",
       "  <thead>\n",
       "    <tr style=\"text-align: right;\">\n",
       "      <th></th>\n",
       "      <th>ID</th>\n",
       "      <th>name</th>\n",
       "      <th>city</th>\n",
       "      <th>state</th>\n",
       "      <th>city_state</th>\n",
       "      <th>state_names</th>\n",
       "      <th>coordinates</th>\n",
       "      <th>longitude</th>\n",
       "      <th>latitude</th>\n",
       "      <th>geometry</th>\n",
       "    </tr>\n",
       "  </thead>\n",
       "  <tbody>\n",
       "    <tr>\n",
       "      <th>0</th>\n",
       "      <td>0</td>\n",
       "      <td>NorthGate Brewing</td>\n",
       "      <td>Minneapolis</td>\n",
       "      <td>MN</td>\n",
       "      <td>Minneapolis,  MN</td>\n",
       "      <td>Minnesota</td>\n",
       "      <td>(46.39241, -94.63623)</td>\n",
       "      <td>-94.63623</td>\n",
       "      <td>46.392410</td>\n",
       "      <td>POINT (-94.63623 46.39241)</td>\n",
       "    </tr>\n",
       "    <tr>\n",
       "      <th>1</th>\n",
       "      <td>1</td>\n",
       "      <td>Against the Grain Brewery</td>\n",
       "      <td>Louisville</td>\n",
       "      <td>KY</td>\n",
       "      <td>Louisville,  KY</td>\n",
       "      <td>Kentucky</td>\n",
       "      <td>(37.839333, -84.27002)</td>\n",
       "      <td>-84.27002</td>\n",
       "      <td>37.839333</td>\n",
       "      <td>POINT (-84.27002 37.839333)</td>\n",
       "    </tr>\n",
       "  </tbody>\n",
       "</table>\n",
       "</div>"
      ],
      "text/plain": [
       "   ID                       name         city state        city_state  \\\n",
       "0   0         NorthGate Brewing   Minneapolis    MN  Minneapolis,  MN   \n",
       "1   1  Against the Grain Brewery   Louisville    KY   Louisville,  KY   \n",
       "\n",
       "  state_names             coordinates  longitude   latitude  \\\n",
       "0   Minnesota   (46.39241, -94.63623)  -94.63623  46.392410   \n",
       "1    Kentucky  (37.839333, -84.27002)  -84.27002  37.839333   \n",
       "\n",
       "                      geometry  \n",
       "0   POINT (-94.63623 46.39241)  \n",
       "1  POINT (-84.27002 37.839333)  "
      ]
     },
     "execution_count": 715,
     "metadata": {},
     "output_type": "execute_result"
    }
   ],
   "source": [
    "breweries_df['state_names'] = breweries_df['state'].map(abbrev_state)\n",
    "breweries_df.head(2)"
   ]
  },
  {
   "cell_type": "code",
   "execution_count": 716,
   "metadata": {},
   "outputs": [],
   "source": [
    "LongLat2 = {'Wisconsin':(44.500000,-89.500000),\n",
    "           'West Virginia' : (39.000000,-80.500000),\n",
    "           'Vermont': (44.000000,-72.699997),\n",
    "           'Texas': (31.000000,-100.000000),\n",
    "           'South Dakota':(44.500000,-100.000000),\n",
    "           'Rhode Island':(41.700001,-71.500000),\n",
    "           'Oregon':(44.000000, -120.500000),\n",
    "           'New York':(43.000000,-75.000000),\n",
    "           'New Hampshire':(44.000000,-71.500000),\n",
    "           'Nebraska':(41.500000,-100.000000),\n",
    "           'Kansas':(38.500000,-98.000000),\n",
    "           'Mississippi':(33.000000,-90.000000),\n",
    "           'Illinois':(40.000000,-89.000000),\n",
    "           'Delaware': (39.000000,-75.500000),\n",
    "           'Connecticut':(41.599998,-72.699997),\n",
    "           'Arkansas':(34.799999,-92.199997),\n",
    "           'Indiana':(40.273502,-86.126976),\n",
    "           'Missouri':(38.573936,-92.603760),\n",
    "           'Florida':(27.994402,-81.760254),\n",
    "           'Nevada':(39.876019,-117.224121),\n",
    "           'Maine':(45.367584,-68.972168),\n",
    "           'Michigan':(44.182205,-84.506836),\n",
    "           'Georgia':(33.247875,-83.441162),\n",
    "           'Hawaii':(20.716179,-158.214676),\n",
    "           'Alaska':(66.160507,-153.369141),\n",
    "           'Tennessee':(35.860119,-86.660156),\n",
    "           'Virginia':(37.926868,-78.024902),\n",
    "           'New Jersey':(39.833851,-74.871826),\n",
    "           'Kentucky':(37.839333,-84.270020),\n",
    "           'North Dakota':(47.650589,-100.437012),\n",
    "           'Minnesota':(46.392410,-94.636230),\n",
    "           'Oklahoma':(36.084621,-96.921387),\n",
    "           'Montana':(46.965260,-109.533691),\n",
    "           'Washington':(47.751076,-120.740135),\n",
    "           'Washington DC': (38.9072,-77.0369),\n",
    "           'Utah':(39.419220,-111.950684),\n",
    "           'Colorado':(39.113014,-105.358887),\n",
    "           'Ohio':(40.367474,-82.996216),\n",
    "           'Alabama':(32.318230,-86.902298),\n",
    "           'Iowa':(42.032974,-93.581543),\n",
    "           'New Mexico':(34.307144,-106.018066),\n",
    "           'South Carolina':(33.836082,-81.163727),\n",
    "           'Pennsylvania':(41.203323,-77.194527),\n",
    "           'Arizona':(34.048927,-111.093735),\n",
    "           'Maryland':(39.045753,-76.641273),\n",
    "           'Massachusetts':(42.407211,-71.382439),\n",
    "           'California':(36.778259,-119.417931),\n",
    "           'Idaho':(44.068203,-114.742043),\n",
    "           'Wyoming':(43.075970,-107.290283),\n",
    "           'North Carolina':(35.782169,-80.793457),\n",
    "           'Louisiana':(30.391830,-92.329102)\n",
    "          }"
   ]
  },
  {
   "cell_type": "code",
   "execution_count": 717,
   "metadata": {},
   "outputs": [
    {
     "data": {
      "text/html": [
       "<div>\n",
       "<style scoped>\n",
       "    .dataframe tbody tr th:only-of-type {\n",
       "        vertical-align: middle;\n",
       "    }\n",
       "\n",
       "    .dataframe tbody tr th {\n",
       "        vertical-align: top;\n",
       "    }\n",
       "\n",
       "    .dataframe thead th {\n",
       "        text-align: right;\n",
       "    }\n",
       "</style>\n",
       "<table border=\"1\" class=\"dataframe\">\n",
       "  <thead>\n",
       "    <tr style=\"text-align: right;\">\n",
       "      <th></th>\n",
       "      <th>ID</th>\n",
       "      <th>name</th>\n",
       "      <th>city</th>\n",
       "      <th>state</th>\n",
       "      <th>city_state</th>\n",
       "      <th>state_names</th>\n",
       "      <th>coordinates</th>\n",
       "      <th>longitude</th>\n",
       "      <th>latitude</th>\n",
       "      <th>geometry</th>\n",
       "    </tr>\n",
       "  </thead>\n",
       "  <tbody>\n",
       "    <tr>\n",
       "      <th>0</th>\n",
       "      <td>0</td>\n",
       "      <td>NorthGate Brewing</td>\n",
       "      <td>Minneapolis</td>\n",
       "      <td>MN</td>\n",
       "      <td>Minneapolis,  MN</td>\n",
       "      <td>Minnesota</td>\n",
       "      <td>(46.39241, -94.63623)</td>\n",
       "      <td>-94.63623</td>\n",
       "      <td>46.392410</td>\n",
       "      <td>POINT (-94.63623 46.39241)</td>\n",
       "    </tr>\n",
       "    <tr>\n",
       "      <th>1</th>\n",
       "      <td>1</td>\n",
       "      <td>Against the Grain Brewery</td>\n",
       "      <td>Louisville</td>\n",
       "      <td>KY</td>\n",
       "      <td>Louisville,  KY</td>\n",
       "      <td>Kentucky</td>\n",
       "      <td>(37.839333, -84.27002)</td>\n",
       "      <td>-84.27002</td>\n",
       "      <td>37.839333</td>\n",
       "      <td>POINT (-84.27002 37.839333)</td>\n",
       "    </tr>\n",
       "  </tbody>\n",
       "</table>\n",
       "</div>"
      ],
      "text/plain": [
       "   ID                       name         city state        city_state  \\\n",
       "0   0         NorthGate Brewing   Minneapolis    MN  Minneapolis,  MN   \n",
       "1   1  Against the Grain Brewery   Louisville    KY   Louisville,  KY   \n",
       "\n",
       "  state_names             coordinates  longitude   latitude  \\\n",
       "0   Minnesota   (46.39241, -94.63623)  -94.63623  46.392410   \n",
       "1    Kentucky  (37.839333, -84.27002)  -84.27002  37.839333   \n",
       "\n",
       "                      geometry  \n",
       "0   POINT (-94.63623 46.39241)  \n",
       "1  POINT (-84.27002 37.839333)  "
      ]
     },
     "execution_count": 717,
     "metadata": {},
     "output_type": "execute_result"
    }
   ],
   "source": [
    "breweries_df['coordinates'] = breweries_df['state_names'].map(LongLat2)\n",
    "breweries_df.head(2)"
   ]
  },
  {
   "cell_type": "code",
   "execution_count": 718,
   "metadata": {},
   "outputs": [],
   "source": [
    "longitude = {'Wisconsin':-89.500000,\n",
    "           'West Virginia' :-80.500000,\n",
    "           'Vermont':-72.699997,\n",
    "           'Texas':-100.000000,\n",
    "           'South Dakota':-100.000000,\n",
    "           'Rhode Island':-71.500000,\n",
    "           'Oregon':-120.500000,\n",
    "           'New York':-75.000000,\n",
    "           'New Hampshire':-71.500000,\n",
    "           'Nebraska':-100.000000,\n",
    "           'Kansas':-98.000000,\n",
    "           'Mississippi':-90.000000,\n",
    "           'Illinois':-89.000000,\n",
    "           'Delaware':-75.500000,\n",
    "           'Connecticut':-72.699997,\n",
    "           'Arkansas':-92.199997,\n",
    "           'Indiana':-86.126976,\n",
    "           'Missouri':-92.603760,\n",
    "           'Florida':-81.760254,\n",
    "           'Nevada':-117.224121,\n",
    "           'Maine':-68.972168,\n",
    "           'Michigan':-84.506836,\n",
    "           'Georgia':-83.441162,\n",
    "           'Hawaii':-158.214676,\n",
    "           'Alaska':-153.369141,\n",
    "           'Tennessee':-86.660156,\n",
    "           'Virginia':-78.024902,\n",
    "           'New Jersey':-74.871826,\n",
    "           'Kentucky':-84.270020,\n",
    "           'North Dakota':-100.437012,\n",
    "           'Minnesota':-94.636230,\n",
    "           'Oklahoma':-96.921387,\n",
    "           'Montana':-109.533691,\n",
    "           'Washington':-120.740135,\n",
    "           'Washington DC':-77.0369,\n",
    "           'Utah':-111.950684,\n",
    "           'Colorado':-105.358887,\n",
    "           'Ohio':-82.996216,\n",
    "           'Alabama':-86.902298,\n",
    "           'Iowa':-93.581543,\n",
    "           'New Mexico':-106.018066,\n",
    "           'South Carolina':-81.163727,\n",
    "           'Pennsylvania':-77.194527,\n",
    "           'Arizona':-111.093735,\n",
    "           'Maryland':-76.641273,\n",
    "           'Massachusetts':-71.382439,\n",
    "           'California':-119.417931,\n",
    "           'Idaho':-114.742043,\n",
    "           'Wyoming':-107.290283,\n",
    "           'North Carolina':-80.793457,\n",
    "           'Louisiana':-92.329102\n",
    "          }\n"
   ]
  },
  {
   "cell_type": "code",
   "execution_count": 719,
   "metadata": {},
   "outputs": [
    {
     "data": {
      "text/html": [
       "<div>\n",
       "<style scoped>\n",
       "    .dataframe tbody tr th:only-of-type {\n",
       "        vertical-align: middle;\n",
       "    }\n",
       "\n",
       "    .dataframe tbody tr th {\n",
       "        vertical-align: top;\n",
       "    }\n",
       "\n",
       "    .dataframe thead th {\n",
       "        text-align: right;\n",
       "    }\n",
       "</style>\n",
       "<table border=\"1\" class=\"dataframe\">\n",
       "  <thead>\n",
       "    <tr style=\"text-align: right;\">\n",
       "      <th></th>\n",
       "      <th>ID</th>\n",
       "      <th>name</th>\n",
       "      <th>city</th>\n",
       "      <th>state</th>\n",
       "      <th>city_state</th>\n",
       "      <th>state_names</th>\n",
       "      <th>coordinates</th>\n",
       "      <th>longitude</th>\n",
       "      <th>latitude</th>\n",
       "      <th>geometry</th>\n",
       "    </tr>\n",
       "  </thead>\n",
       "  <tbody>\n",
       "    <tr>\n",
       "      <th>0</th>\n",
       "      <td>0</td>\n",
       "      <td>NorthGate Brewing</td>\n",
       "      <td>Minneapolis</td>\n",
       "      <td>MN</td>\n",
       "      <td>Minneapolis,  MN</td>\n",
       "      <td>Minnesota</td>\n",
       "      <td>(46.39241, -94.63623)</td>\n",
       "      <td>-94.63623</td>\n",
       "      <td>46.392410</td>\n",
       "      <td>POINT (-94.63623 46.39241)</td>\n",
       "    </tr>\n",
       "    <tr>\n",
       "      <th>1</th>\n",
       "      <td>1</td>\n",
       "      <td>Against the Grain Brewery</td>\n",
       "      <td>Louisville</td>\n",
       "      <td>KY</td>\n",
       "      <td>Louisville,  KY</td>\n",
       "      <td>Kentucky</td>\n",
       "      <td>(37.839333, -84.27002)</td>\n",
       "      <td>-84.27002</td>\n",
       "      <td>37.839333</td>\n",
       "      <td>POINT (-84.27002 37.839333)</td>\n",
       "    </tr>\n",
       "  </tbody>\n",
       "</table>\n",
       "</div>"
      ],
      "text/plain": [
       "   ID                       name         city state        city_state  \\\n",
       "0   0         NorthGate Brewing   Minneapolis    MN  Minneapolis,  MN   \n",
       "1   1  Against the Grain Brewery   Louisville    KY   Louisville,  KY   \n",
       "\n",
       "  state_names             coordinates  longitude   latitude  \\\n",
       "0   Minnesota   (46.39241, -94.63623)  -94.63623  46.392410   \n",
       "1    Kentucky  (37.839333, -84.27002)  -84.27002  37.839333   \n",
       "\n",
       "                      geometry  \n",
       "0   POINT (-94.63623 46.39241)  \n",
       "1  POINT (-84.27002 37.839333)  "
      ]
     },
     "execution_count": 719,
     "metadata": {},
     "output_type": "execute_result"
    }
   ],
   "source": [
    "breweries_df['longitude'] = breweries_df['state_names'].map(longitude)\n",
    "breweries_df.head(2)"
   ]
  },
  {
   "cell_type": "code",
   "execution_count": 720,
   "metadata": {},
   "outputs": [],
   "source": [
    "latitude = {'Wisconsin':44.500000,\n",
    "           'West Virginia' : 39.000000,\n",
    "           'Vermont': 44.000000,\n",
    "           'Texas': 31.000000,\n",
    "           'South Dakota':44.500000,\n",
    "           'Rhode Island':41.700001,\n",
    "           'Oregon':44.000000,\n",
    "           'New York':43.000000,\n",
    "           'New Hampshire':44.000000,\n",
    "           'Nebraska':41.500000,\n",
    "           'Kansas':38.500000,\n",
    "           'Mississippi':33.000000,\n",
    "           'Illinois':40.000000,\n",
    "           'Delaware': 39.000000,\n",
    "           'Connecticut':41.599998,\n",
    "           'Arkansas':34.799999,\n",
    "           'Indiana':40.273502,\n",
    "           'Missouri':38.573936,\n",
    "           'Florida':27.994402,\n",
    "           'Nevada':39.876019,\n",
    "           'Maine':45.367584,\n",
    "           'Michigan':44.182205,\n",
    "           'Georgia':33.247875,\n",
    "           'Hawaii':20.716179,\n",
    "           'Alaska':66.160507,\n",
    "           'Tennessee':35.860119,\n",
    "           'Virginia':37.926868,\n",
    "           'New Jersey':39.833851,\n",
    "           'Kentucky':37.839333,\n",
    "           'North Dakota':47.650589,\n",
    "           'Minnesota':46.392410,\n",
    "           'Oklahoma':36.084621,\n",
    "           'Montana':46.965260,\n",
    "           'Washington':47.751076,\n",
    "           'Washington DC': 38.9072,\n",
    "           'Utah':39.419220,\n",
    "           'Colorado':39.113014,\n",
    "           'Ohio':40.367474,\n",
    "           'Alabama':32.318230,\n",
    "           'Iowa':42.032974,\n",
    "           'New Mexico':34.307144,\n",
    "           'South Carolina':33.836082,\n",
    "           'Pennsylvania':41.203323,\n",
    "           'Arizona':34.048927,\n",
    "           'Maryland':39.045753,\n",
    "           'Massachusetts':42.407211,\n",
    "           'California':36.778259,\n",
    "           'Idaho':44.068203,\n",
    "           'Wyoming':43.075970,\n",
    "           'North Carolina':35.782169,\n",
    "           'Louisiana':30.391830,\n",
    "          }"
   ]
  },
  {
   "cell_type": "code",
   "execution_count": 721,
   "metadata": {},
   "outputs": [
    {
     "data": {
      "text/html": [
       "<div>\n",
       "<style scoped>\n",
       "    .dataframe tbody tr th:only-of-type {\n",
       "        vertical-align: middle;\n",
       "    }\n",
       "\n",
       "    .dataframe tbody tr th {\n",
       "        vertical-align: top;\n",
       "    }\n",
       "\n",
       "    .dataframe thead th {\n",
       "        text-align: right;\n",
       "    }\n",
       "</style>\n",
       "<table border=\"1\" class=\"dataframe\">\n",
       "  <thead>\n",
       "    <tr style=\"text-align: right;\">\n",
       "      <th></th>\n",
       "      <th>ID</th>\n",
       "      <th>name</th>\n",
       "      <th>city</th>\n",
       "      <th>state</th>\n",
       "      <th>city_state</th>\n",
       "      <th>state_names</th>\n",
       "      <th>coordinates</th>\n",
       "      <th>longitude</th>\n",
       "      <th>latitude</th>\n",
       "      <th>geometry</th>\n",
       "    </tr>\n",
       "  </thead>\n",
       "  <tbody>\n",
       "    <tr>\n",
       "      <th>0</th>\n",
       "      <td>0</td>\n",
       "      <td>NorthGate Brewing</td>\n",
       "      <td>Minneapolis</td>\n",
       "      <td>MN</td>\n",
       "      <td>Minneapolis,  MN</td>\n",
       "      <td>Minnesota</td>\n",
       "      <td>(46.39241, -94.63623)</td>\n",
       "      <td>-94.63623</td>\n",
       "      <td>46.392410</td>\n",
       "      <td>POINT (-94.63623 46.39241)</td>\n",
       "    </tr>\n",
       "    <tr>\n",
       "      <th>1</th>\n",
       "      <td>1</td>\n",
       "      <td>Against the Grain Brewery</td>\n",
       "      <td>Louisville</td>\n",
       "      <td>KY</td>\n",
       "      <td>Louisville,  KY</td>\n",
       "      <td>Kentucky</td>\n",
       "      <td>(37.839333, -84.27002)</td>\n",
       "      <td>-84.27002</td>\n",
       "      <td>37.839333</td>\n",
       "      <td>POINT (-84.27002 37.839333)</td>\n",
       "    </tr>\n",
       "  </tbody>\n",
       "</table>\n",
       "</div>"
      ],
      "text/plain": [
       "   ID                       name         city state        city_state  \\\n",
       "0   0         NorthGate Brewing   Minneapolis    MN  Minneapolis,  MN   \n",
       "1   1  Against the Grain Brewery   Louisville    KY   Louisville,  KY   \n",
       "\n",
       "  state_names             coordinates  longitude   latitude  \\\n",
       "0   Minnesota   (46.39241, -94.63623)  -94.63623  46.392410   \n",
       "1    Kentucky  (37.839333, -84.27002)  -84.27002  37.839333   \n",
       "\n",
       "                      geometry  \n",
       "0   POINT (-94.63623 46.39241)  \n",
       "1  POINT (-84.27002 37.839333)  "
      ]
     },
     "execution_count": 721,
     "metadata": {},
     "output_type": "execute_result"
    }
   ],
   "source": [
    "breweries_df['latitude'] = breweries_df['state_names'].map(latitude)\n",
    "breweries_df.head(2)"
   ]
  },
  {
   "cell_type": "code",
   "execution_count": 723,
   "metadata": {},
   "outputs": [
    {
     "data": {
      "text/html": [
       "<div>\n",
       "<style scoped>\n",
       "    .dataframe tbody tr th:only-of-type {\n",
       "        vertical-align: middle;\n",
       "    }\n",
       "\n",
       "    .dataframe tbody tr th {\n",
       "        vertical-align: top;\n",
       "    }\n",
       "\n",
       "    .dataframe thead th {\n",
       "        text-align: right;\n",
       "    }\n",
       "</style>\n",
       "<table border=\"1\" class=\"dataframe\">\n",
       "  <thead>\n",
       "    <tr style=\"text-align: right;\">\n",
       "      <th></th>\n",
       "      <th>ID</th>\n",
       "      <th>name</th>\n",
       "      <th>city</th>\n",
       "      <th>state</th>\n",
       "      <th>city_state</th>\n",
       "      <th>state_names</th>\n",
       "      <th>coordinates</th>\n",
       "      <th>longitude</th>\n",
       "      <th>latitude</th>\n",
       "      <th>geometry</th>\n",
       "    </tr>\n",
       "  </thead>\n",
       "  <tbody>\n",
       "    <tr>\n",
       "      <th>0</th>\n",
       "      <td>0</td>\n",
       "      <td>NorthGate Brewing</td>\n",
       "      <td>Minneapolis</td>\n",
       "      <td>MN</td>\n",
       "      <td>Minneapolis,  MN</td>\n",
       "      <td>Minnesota</td>\n",
       "      <td>(46.39241, -94.63623)</td>\n",
       "      <td>-94.63623</td>\n",
       "      <td>46.392410</td>\n",
       "      <td>POINT (-94.63623 46.39241)</td>\n",
       "    </tr>\n",
       "    <tr>\n",
       "      <th>1</th>\n",
       "      <td>1</td>\n",
       "      <td>Against the Grain Brewery</td>\n",
       "      <td>Louisville</td>\n",
       "      <td>KY</td>\n",
       "      <td>Louisville,  KY</td>\n",
       "      <td>Kentucky</td>\n",
       "      <td>(37.839333, -84.27002)</td>\n",
       "      <td>-84.27002</td>\n",
       "      <td>37.839333</td>\n",
       "      <td>POINT (-84.27002 37.839333)</td>\n",
       "    </tr>\n",
       "  </tbody>\n",
       "</table>\n",
       "</div>"
      ],
      "text/plain": [
       "   ID                       name         city state        city_state  \\\n",
       "0   0         NorthGate Brewing   Minneapolis    MN  Minneapolis,  MN   \n",
       "1   1  Against the Grain Brewery   Louisville    KY   Louisville,  KY   \n",
       "\n",
       "  state_names             coordinates  longitude   latitude  \\\n",
       "0   Minnesota   (46.39241, -94.63623)  -94.63623  46.392410   \n",
       "1    Kentucky  (37.839333, -84.27002)  -84.27002  37.839333   \n",
       "\n",
       "                      geometry  \n",
       "0   POINT (-94.63623 46.39241)  \n",
       "1  POINT (-84.27002 37.839333)  "
      ]
     },
     "execution_count": 723,
     "metadata": {},
     "output_type": "execute_result"
    }
   ],
   "source": [
    "# Create a geometry column from lng & lat\n",
    "\n",
    "breweries_df['geometry'] = breweries_df.apply(lambda x: Point(float(x.longitude), float(x.latitude)), axis=1)\n",
    "breweries_df.head(2)"
   ]
  },
  {
   "cell_type": "code",
   "execution_count": 724,
   "metadata": {},
   "outputs": [
    {
     "data": {
      "text/html": [
       "<div>\n",
       "<style scoped>\n",
       "    .dataframe tbody tr th:only-of-type {\n",
       "        vertical-align: middle;\n",
       "    }\n",
       "\n",
       "    .dataframe tbody tr th {\n",
       "        vertical-align: top;\n",
       "    }\n",
       "\n",
       "    .dataframe thead th {\n",
       "        text-align: right;\n",
       "    }\n",
       "</style>\n",
       "<table border=\"1\" class=\"dataframe\">\n",
       "  <thead>\n",
       "    <tr style=\"text-align: right;\">\n",
       "      <th></th>\n",
       "      <th>ID</th>\n",
       "      <th>name</th>\n",
       "      <th>city</th>\n",
       "      <th>state</th>\n",
       "      <th>city_state</th>\n",
       "      <th>state_names</th>\n",
       "      <th>coordinates</th>\n",
       "      <th>longitude</th>\n",
       "      <th>latitude</th>\n",
       "      <th>geometry</th>\n",
       "    </tr>\n",
       "  </thead>\n",
       "  <tbody>\n",
       "    <tr>\n",
       "      <th>0</th>\n",
       "      <td>0</td>\n",
       "      <td>NorthGate Brewing</td>\n",
       "      <td>Minneapolis</td>\n",
       "      <td>MN</td>\n",
       "      <td>Minneapolis,  MN</td>\n",
       "      <td>Minnesota</td>\n",
       "      <td>(46.39241, -94.63623)</td>\n",
       "      <td>-94.63623</td>\n",
       "      <td>46.392410</td>\n",
       "      <td>POINT (-94.63623 46.39241)</td>\n",
       "    </tr>\n",
       "    <tr>\n",
       "      <th>1</th>\n",
       "      <td>1</td>\n",
       "      <td>Against the Grain Brewery</td>\n",
       "      <td>Louisville</td>\n",
       "      <td>KY</td>\n",
       "      <td>Louisville,  KY</td>\n",
       "      <td>Kentucky</td>\n",
       "      <td>(37.839333, -84.27002)</td>\n",
       "      <td>-84.27002</td>\n",
       "      <td>37.839333</td>\n",
       "      <td>POINT (-84.27002 37.83933)</td>\n",
       "    </tr>\n",
       "  </tbody>\n",
       "</table>\n",
       "</div>"
      ],
      "text/plain": [
       "   ID                       name         city state        city_state  \\\n",
       "0   0         NorthGate Brewing   Minneapolis    MN  Minneapolis,  MN   \n",
       "1   1  Against the Grain Brewery   Louisville    KY   Louisville,  KY   \n",
       "\n",
       "  state_names             coordinates  longitude   latitude  \\\n",
       "0   Minnesota   (46.39241, -94.63623)  -94.63623  46.392410   \n",
       "1    Kentucky  (37.839333, -84.27002)  -84.27002  37.839333   \n",
       "\n",
       "                     geometry  \n",
       "0  POINT (-94.63623 46.39241)  \n",
       "1  POINT (-84.27002 37.83933)  "
      ]
     },
     "execution_count": 724,
     "metadata": {},
     "output_type": "execute_result"
    }
   ],
   "source": [
    "# Create a GeoDataFrame from breweries\n",
    "\n",
    "breweries_geo = geopandas.GeoDataFrame(breweries_df, crs = {'init' :'epsg:4326'}, geometry = breweries_df.geometry)\n",
    "breweries_geo.head(2)"
   ]
  },
  {
   "cell_type": "code",
   "execution_count": 725,
   "metadata": {},
   "outputs": [],
   "source": [
    "breweries_geo.crs = {'init' :'epsg:4326'}"
   ]
  },
  {
   "cell_type": "code",
   "execution_count": 726,
   "metadata": {},
   "outputs": [],
   "source": [
    "usa_geo.crs = {'init' :'epsg:4326'}"
   ]
  },
  {
   "cell_type": "code",
   "execution_count": 727,
   "metadata": {},
   "outputs": [
    {
     "name": "stdout",
     "output_type": "stream",
     "text": [
      "<class 'geopandas.geodataframe.GeoDataFrame'>\n"
     ]
    }
   ],
   "source": [
    "# verify the type\n",
    "print(type(breweries_geo))"
   ]
  },
  {
   "cell_type": "code",
   "execution_count": 684,
   "metadata": {},
   "outputs": [
    {
     "data": {
      "image/png": "[encoded data removed]",
      "text/plain": [
       "<Figure size 504x360 with 1 Axes>"
      ]
     },
     "metadata": {},
     "output_type": "display_data"
    }
   ],
   "source": [
    "# Plot the locations \n",
    "plt.scatter(x = breweries_df.longitude, y = breweries_df.latitude)\n",
    "\n",
    "# Show the plot\n",
    "plt.show()"
   ]
  },
  {
   "cell_type": "code",
   "execution_count": 736,
   "metadata": {},
   "outputs": [
    {
     "data": {
      "text/plain": [
       "shapely.geometry.multipolygon.MultiPolygon"
      ]
     },
     "execution_count": 736,
     "metadata": {},
     "output_type": "execute_result"
    }
   ],
   "source": [
    "type(usa_geo.geometry[0])"
   ]
  },
  {
   "cell_type": "code",
   "execution_count": 766,
   "metadata": {},
   "outputs": [
    {
     "ename": "NameError",
     "evalue": "name 'points' is not defined",
     "output_type": "error",
     "traceback": [
      "\u001b[0;31m---------------------------------------------------------------------------\u001b[0m",
      "\u001b[0;31mNameError\u001b[0m                                 Traceback (most recent call last)",
      "\u001b[0;32m<ipython-input-766-2284cd894602>\u001b[0m in \u001b[0;36m<module>\u001b[0;34m\u001b[0m\n\u001b[0;32m----> 1\u001b[0;31m \u001b[0mpoints_clean\u001b[0m \u001b[0;34m=\u001b[0m \u001b[0mpoints\u001b[0m\u001b[0;34m.\u001b[0m\u001b[0mloc\u001b[0m\u001b[0;34m[\u001b[0m\u001b[0mpoints\u001b[0m\u001b[0;34m.\u001b[0m\u001b[0mis_valid\u001b[0m\u001b[0;34m]\u001b[0m\u001b[0;34m\u001b[0m\u001b[0;34m\u001b[0m\u001b[0m\n\u001b[0m",
      "\u001b[0;31mNameError\u001b[0m: name 'points' is not defined"
     ]
    }
   ],
   "source": []
  },
  {
   "cell_type": "code",
   "execution_count": 764,
   "metadata": {},
   "outputs": [
    {
     "ename": "AttributeError",
     "evalue": "'NoneType' object has no attribute 'intersection'",
     "output_type": "error",
     "traceback": [
      "\u001b[0;31m---------------------------------------------------------------------------\u001b[0m",
      "\u001b[0;31mAttributeError\u001b[0m                            Traceback (most recent call last)",
      "\u001b[0;32m<ipython-input-764-585f2814bd4f>\u001b[0m in \u001b[0;36m<module>\u001b[0;34m\u001b[0m\n\u001b[0;32m----> 1\u001b[0;31m \u001b[0musa_and_breweries\u001b[0m \u001b[0;34m=\u001b[0m \u001b[0mgeopandas\u001b[0m\u001b[0;34m.\u001b[0m\u001b[0msjoin\u001b[0m\u001b[0;34m(\u001b[0m\u001b[0mbreweries_geo\u001b[0m\u001b[0;34m,\u001b[0m \u001b[0musa_geo\u001b[0m\u001b[0;34m,\u001b[0m \u001b[0mhow\u001b[0m\u001b[0;34m=\u001b[0m\u001b[0;34m'inner'\u001b[0m\u001b[0;34m,\u001b[0m\u001b[0mop\u001b[0m \u001b[0;34m=\u001b[0m \u001b[0;34m'intersects'\u001b[0m\u001b[0;34m)\u001b[0m\u001b[0;34m\u001b[0m\u001b[0;34m\u001b[0m\u001b[0m\n\u001b[0m\u001b[1;32m      2\u001b[0m \u001b[0;34m\u001b[0m\u001b[0m\n\u001b[1;32m      3\u001b[0m \u001b[0;31m# Print the shape property of art_intersect_neighborhoods\u001b[0m\u001b[0;34m\u001b[0m\u001b[0;34m\u001b[0m\u001b[0;34m\u001b[0m\u001b[0m\n\u001b[1;32m      4\u001b[0m \u001b[0mprint\u001b[0m\u001b[0;34m(\u001b[0m\u001b[0musa_and_breweries\u001b[0m\u001b[0;34m.\u001b[0m\u001b[0mshape\u001b[0m\u001b[0;34m)\u001b[0m\u001b[0;34m\u001b[0m\u001b[0;34m\u001b[0m\u001b[0m\n",
      "\u001b[0;32m~/.local/lib/python3.6/site-packages/geopandas/tools/sjoin.py\u001b[0m in \u001b[0;36msjoin\u001b[0;34m(left_df, right_df, how, op, lsuffix, rsuffix)\u001b[0m\n\u001b[1;32m    107\u001b[0m     \u001b[0;32mif\u001b[0m \u001b[0mtree_idx_right\u001b[0m\u001b[0;34m:\u001b[0m\u001b[0;34m\u001b[0m\u001b[0;34m\u001b[0m\u001b[0m\n\u001b[1;32m    108\u001b[0m         idxmatch = left_df.geometry.apply(lambda x: x.bounds).apply(\n\u001b[0;32m--> 109\u001b[0;31m             \u001b[0;32mlambda\u001b[0m \u001b[0mx\u001b[0m\u001b[0;34m:\u001b[0m \u001b[0mlist\u001b[0m\u001b[0;34m(\u001b[0m\u001b[0mtree_idx\u001b[0m\u001b[0;34m.\u001b[0m\u001b[0mintersection\u001b[0m\u001b[0;34m(\u001b[0m\u001b[0mx\u001b[0m\u001b[0;34m)\u001b[0m\u001b[0;34m)\u001b[0m \u001b[0;32mif\u001b[0m \u001b[0;32mnot\u001b[0m \u001b[0mx\u001b[0m \u001b[0;34m==\u001b[0m \u001b[0;34m(\u001b[0m\u001b[0;34m)\u001b[0m \u001b[0;32melse\u001b[0m \u001b[0;34m[\u001b[0m\u001b[0;34m]\u001b[0m\u001b[0;34m\u001b[0m\u001b[0;34m\u001b[0m\u001b[0m\n\u001b[0m\u001b[1;32m    110\u001b[0m         )\n\u001b[1;32m    111\u001b[0m         \u001b[0midxmatch\u001b[0m \u001b[0;34m=\u001b[0m \u001b[0midxmatch\u001b[0m\u001b[0;34m[\u001b[0m\u001b[0midxmatch\u001b[0m\u001b[0;34m.\u001b[0m\u001b[0mapply\u001b[0m\u001b[0;34m(\u001b[0m\u001b[0mlen\u001b[0m\u001b[0;34m)\u001b[0m \u001b[0;34m>\u001b[0m \u001b[0;36m0\u001b[0m\u001b[0;34m]\u001b[0m\u001b[0;34m\u001b[0m\u001b[0;34m\u001b[0m\u001b[0m\n",
      "\u001b[0;32m/opt/tljh/user/lib/python3.6/site-packages/pandas/core/series.py\u001b[0m in \u001b[0;36mapply\u001b[0;34m(self, func, convert_dtype, args, **kwds)\u001b[0m\n\u001b[1;32m   4043\u001b[0m             \u001b[0;32melse\u001b[0m\u001b[0;34m:\u001b[0m\u001b[0;34m\u001b[0m\u001b[0;34m\u001b[0m\u001b[0m\n\u001b[1;32m   4044\u001b[0m                 \u001b[0mvalues\u001b[0m \u001b[0;34m=\u001b[0m \u001b[0mself\u001b[0m\u001b[0;34m.\u001b[0m\u001b[0mastype\u001b[0m\u001b[0;34m(\u001b[0m\u001b[0mobject\u001b[0m\u001b[0;34m)\u001b[0m\u001b[0;34m.\u001b[0m\u001b[0mvalues\u001b[0m\u001b[0;34m\u001b[0m\u001b[0;34m\u001b[0m\u001b[0m\n\u001b[0;32m-> 4045\u001b[0;31m                 \u001b[0mmapped\u001b[0m \u001b[0;34m=\u001b[0m \u001b[0mlib\u001b[0m\u001b[0;34m.\u001b[0m\u001b[0mmap_infer\u001b[0m\u001b[0;34m(\u001b[0m\u001b[0mvalues\u001b[0m\u001b[0;34m,\u001b[0m \u001b[0mf\u001b[0m\u001b[0;34m,\u001b[0m \u001b[0mconvert\u001b[0m\u001b[0;34m=\u001b[0m\u001b[0mconvert_dtype\u001b[0m\u001b[0;34m)\u001b[0m\u001b[0;34m\u001b[0m\u001b[0;34m\u001b[0m\u001b[0m\n\u001b[0m\u001b[1;32m   4046\u001b[0m \u001b[0;34m\u001b[0m\u001b[0m\n\u001b[1;32m   4047\u001b[0m         \u001b[0;32mif\u001b[0m \u001b[0mlen\u001b[0m\u001b[0;34m(\u001b[0m\u001b[0mmapped\u001b[0m\u001b[0;34m)\u001b[0m \u001b[0;32mand\u001b[0m \u001b[0misinstance\u001b[0m\u001b[0;34m(\u001b[0m\u001b[0mmapped\u001b[0m\u001b[0;34m[\u001b[0m\u001b[0;36m0\u001b[0m\u001b[0;34m]\u001b[0m\u001b[0;34m,\u001b[0m \u001b[0mSeries\u001b[0m\u001b[0;34m)\u001b[0m\u001b[0;34m:\u001b[0m\u001b[0;34m\u001b[0m\u001b[0;34m\u001b[0m\u001b[0m\n",
      "\u001b[0;32mpandas/_libs/lib.pyx\u001b[0m in \u001b[0;36mpandas._libs.lib.map_infer\u001b[0;34m()\u001b[0m\n",
      "\u001b[0;32m~/.local/lib/python3.6/site-packages/geopandas/tools/sjoin.py\u001b[0m in \u001b[0;36m<lambda>\u001b[0;34m(x)\u001b[0m\n\u001b[1;32m    107\u001b[0m     \u001b[0;32mif\u001b[0m \u001b[0mtree_idx_right\u001b[0m\u001b[0;34m:\u001b[0m\u001b[0;34m\u001b[0m\u001b[0;34m\u001b[0m\u001b[0m\n\u001b[1;32m    108\u001b[0m         idxmatch = left_df.geometry.apply(lambda x: x.bounds).apply(\n\u001b[0;32m--> 109\u001b[0;31m             \u001b[0;32mlambda\u001b[0m \u001b[0mx\u001b[0m\u001b[0;34m:\u001b[0m \u001b[0mlist\u001b[0m\u001b[0;34m(\u001b[0m\u001b[0mtree_idx\u001b[0m\u001b[0;34m.\u001b[0m\u001b[0mintersection\u001b[0m\u001b[0;34m(\u001b[0m\u001b[0mx\u001b[0m\u001b[0;34m)\u001b[0m\u001b[0;34m)\u001b[0m \u001b[0;32mif\u001b[0m \u001b[0;32mnot\u001b[0m \u001b[0mx\u001b[0m \u001b[0;34m==\u001b[0m \u001b[0;34m(\u001b[0m\u001b[0;34m)\u001b[0m \u001b[0;32melse\u001b[0m \u001b[0;34m[\u001b[0m\u001b[0;34m]\u001b[0m\u001b[0;34m\u001b[0m\u001b[0;34m\u001b[0m\u001b[0m\n\u001b[0m\u001b[1;32m    110\u001b[0m         )\n\u001b[1;32m    111\u001b[0m         \u001b[0midxmatch\u001b[0m \u001b[0;34m=\u001b[0m \u001b[0midxmatch\u001b[0m\u001b[0;34m[\u001b[0m\u001b[0midxmatch\u001b[0m\u001b[0;34m.\u001b[0m\u001b[0mapply\u001b[0m\u001b[0;34m(\u001b[0m\u001b[0mlen\u001b[0m\u001b[0;34m)\u001b[0m \u001b[0;34m>\u001b[0m \u001b[0;36m0\u001b[0m\u001b[0;34m]\u001b[0m\u001b[0;34m\u001b[0m\u001b[0;34m\u001b[0m\u001b[0m\n",
      "\u001b[0;31mAttributeError\u001b[0m: 'NoneType' object has no attribute 'intersection'"
     ]
    }
   ],
   "source": [
    "usa_and_breweries = geopandas.sjoin(breweries_geo, usa_geo, how='inner',op = 'intersects')\n",
    "\n",
    "# Print the shape property of art_intersect_neighborhoods\n",
    "print(usa_and_breweries.shape)"
   ]
  },
  {
   "cell_type": "code",
   "execution_count": 709,
   "metadata": {},
   "outputs": [
    {
     "ename": "AttributeError",
     "evalue": "'NoneType' object has no attribute 'intersection'",
     "output_type": "error",
     "traceback": [
      "\u001b[0;31m---------------------------------------------------------------------------\u001b[0m",
      "\u001b[0;31mAttributeError\u001b[0m                            Traceback (most recent call last)",
      "\u001b[0;32m<ipython-input-709-540b32b81c88>\u001b[0m in \u001b[0;36m<module>\u001b[0;34m\u001b[0m\n\u001b[1;32m      3\u001b[0m \u001b[0;34m\u001b[0m\u001b[0m\n\u001b[1;32m      4\u001b[0m \u001b[0;31m# Spatial join of permits_geo and council_districts\u001b[0m\u001b[0;34m\u001b[0m\u001b[0;34m\u001b[0m\u001b[0;34m\u001b[0m\u001b[0m\n\u001b[0;32m----> 5\u001b[0;31m \u001b[0mbreweries_by_state\u001b[0m \u001b[0;34m=\u001b[0m \u001b[0mgeopandas\u001b[0m\u001b[0;34m.\u001b[0m\u001b[0msjoin\u001b[0m\u001b[0;34m(\u001b[0m\u001b[0mbreweries_geo\u001b[0m\u001b[0;34m,\u001b[0m \u001b[0musa_geo\u001b[0m\u001b[0;34m,\u001b[0m \u001b[0mop\u001b[0m \u001b[0;34m=\u001b[0m \u001b[0;34m'within'\u001b[0m\u001b[0;34m)\u001b[0m\u001b[0;34m\u001b[0m\u001b[0;34m\u001b[0m\u001b[0m\n\u001b[0m\u001b[1;32m      6\u001b[0m \u001b[0mprint\u001b[0m\u001b[0;34m(\u001b[0m\u001b[0mbreweries_by_state\u001b[0m\u001b[0;34m.\u001b[0m\u001b[0mhead\u001b[0m\u001b[0;34m(\u001b[0m\u001b[0;36m2\u001b[0m\u001b[0;34m)\u001b[0m\u001b[0;34m)\u001b[0m\u001b[0;34m\u001b[0m\u001b[0;34m\u001b[0m\u001b[0m\n\u001b[1;32m      7\u001b[0m \u001b[0;34m\u001b[0m\u001b[0m\n",
      "\u001b[0;32m~/.local/lib/python3.6/site-packages/geopandas/tools/sjoin.py\u001b[0m in \u001b[0;36msjoin\u001b[0;34m(left_df, right_df, how, op, lsuffix, rsuffix)\u001b[0m\n\u001b[1;32m    107\u001b[0m     \u001b[0;32mif\u001b[0m \u001b[0mtree_idx_right\u001b[0m\u001b[0;34m:\u001b[0m\u001b[0;34m\u001b[0m\u001b[0;34m\u001b[0m\u001b[0m\n\u001b[1;32m    108\u001b[0m         idxmatch = left_df.geometry.apply(lambda x: x.bounds).apply(\n\u001b[0;32m--> 109\u001b[0;31m             \u001b[0;32mlambda\u001b[0m \u001b[0mx\u001b[0m\u001b[0;34m:\u001b[0m \u001b[0mlist\u001b[0m\u001b[0;34m(\u001b[0m\u001b[0mtree_idx\u001b[0m\u001b[0;34m.\u001b[0m\u001b[0mintersection\u001b[0m\u001b[0;34m(\u001b[0m\u001b[0mx\u001b[0m\u001b[0;34m)\u001b[0m\u001b[0;34m)\u001b[0m \u001b[0;32mif\u001b[0m \u001b[0;32mnot\u001b[0m \u001b[0mx\u001b[0m \u001b[0;34m==\u001b[0m \u001b[0;34m(\u001b[0m\u001b[0;34m)\u001b[0m \u001b[0;32melse\u001b[0m \u001b[0;34m[\u001b[0m\u001b[0;34m]\u001b[0m\u001b[0;34m\u001b[0m\u001b[0;34m\u001b[0m\u001b[0m\n\u001b[0m\u001b[1;32m    110\u001b[0m         )\n\u001b[1;32m    111\u001b[0m         \u001b[0midxmatch\u001b[0m \u001b[0;34m=\u001b[0m \u001b[0midxmatch\u001b[0m\u001b[0;34m[\u001b[0m\u001b[0midxmatch\u001b[0m\u001b[0;34m.\u001b[0m\u001b[0mapply\u001b[0m\u001b[0;34m(\u001b[0m\u001b[0mlen\u001b[0m\u001b[0;34m)\u001b[0m \u001b[0;34m>\u001b[0m \u001b[0;36m0\u001b[0m\u001b[0;34m]\u001b[0m\u001b[0;34m\u001b[0m\u001b[0;34m\u001b[0m\u001b[0m\n",
      "\u001b[0;32m/opt/tljh/user/lib/python3.6/site-packages/pandas/core/series.py\u001b[0m in \u001b[0;36mapply\u001b[0;34m(self, func, convert_dtype, args, **kwds)\u001b[0m\n\u001b[1;32m   4043\u001b[0m             \u001b[0;32melse\u001b[0m\u001b[0;34m:\u001b[0m\u001b[0;34m\u001b[0m\u001b[0;34m\u001b[0m\u001b[0m\n\u001b[1;32m   4044\u001b[0m                 \u001b[0mvalues\u001b[0m \u001b[0;34m=\u001b[0m \u001b[0mself\u001b[0m\u001b[0;34m.\u001b[0m\u001b[0mastype\u001b[0m\u001b[0;34m(\u001b[0m\u001b[0mobject\u001b[0m\u001b[0;34m)\u001b[0m\u001b[0;34m.\u001b[0m\u001b[0mvalues\u001b[0m\u001b[0;34m\u001b[0m\u001b[0;34m\u001b[0m\u001b[0m\n\u001b[0;32m-> 4045\u001b[0;31m                 \u001b[0mmapped\u001b[0m \u001b[0;34m=\u001b[0m \u001b[0mlib\u001b[0m\u001b[0;34m.\u001b[0m\u001b[0mmap_infer\u001b[0m\u001b[0;34m(\u001b[0m\u001b[0mvalues\u001b[0m\u001b[0;34m,\u001b[0m \u001b[0mf\u001b[0m\u001b[0;34m,\u001b[0m \u001b[0mconvert\u001b[0m\u001b[0;34m=\u001b[0m\u001b[0mconvert_dtype\u001b[0m\u001b[0;34m)\u001b[0m\u001b[0;34m\u001b[0m\u001b[0;34m\u001b[0m\u001b[0m\n\u001b[0m\u001b[1;32m   4046\u001b[0m \u001b[0;34m\u001b[0m\u001b[0m\n\u001b[1;32m   4047\u001b[0m         \u001b[0;32mif\u001b[0m \u001b[0mlen\u001b[0m\u001b[0;34m(\u001b[0m\u001b[0mmapped\u001b[0m\u001b[0;34m)\u001b[0m \u001b[0;32mand\u001b[0m \u001b[0misinstance\u001b[0m\u001b[0;34m(\u001b[0m\u001b[0mmapped\u001b[0m\u001b[0;34m[\u001b[0m\u001b[0;36m0\u001b[0m\u001b[0;34m]\u001b[0m\u001b[0;34m,\u001b[0m \u001b[0mSeries\u001b[0m\u001b[0;34m)\u001b[0m\u001b[0;34m:\u001b[0m\u001b[0;34m\u001b[0m\u001b[0;34m\u001b[0m\u001b[0m\n",
      "\u001b[0;32mpandas/_libs/lib.pyx\u001b[0m in \u001b[0;36mpandas._libs.lib.map_infer\u001b[0;34m()\u001b[0m\n",
      "\u001b[0;32m~/.local/lib/python3.6/site-packages/geopandas/tools/sjoin.py\u001b[0m in \u001b[0;36m<lambda>\u001b[0;34m(x)\u001b[0m\n\u001b[1;32m    107\u001b[0m     \u001b[0;32mif\u001b[0m \u001b[0mtree_idx_right\u001b[0m\u001b[0;34m:\u001b[0m\u001b[0;34m\u001b[0m\u001b[0;34m\u001b[0m\u001b[0m\n\u001b[1;32m    108\u001b[0m         idxmatch = left_df.geometry.apply(lambda x: x.bounds).apply(\n\u001b[0;32m--> 109\u001b[0;31m             \u001b[0;32mlambda\u001b[0m \u001b[0mx\u001b[0m\u001b[0;34m:\u001b[0m \u001b[0mlist\u001b[0m\u001b[0;34m(\u001b[0m\u001b[0mtree_idx\u001b[0m\u001b[0;34m.\u001b[0m\u001b[0mintersection\u001b[0m\u001b[0;34m(\u001b[0m\u001b[0mx\u001b[0m\u001b[0;34m)\u001b[0m\u001b[0;34m)\u001b[0m \u001b[0;32mif\u001b[0m \u001b[0;32mnot\u001b[0m \u001b[0mx\u001b[0m \u001b[0;34m==\u001b[0m \u001b[0;34m(\u001b[0m\u001b[0;34m)\u001b[0m \u001b[0;32melse\u001b[0m \u001b[0;34m[\u001b[0m\u001b[0;34m]\u001b[0m\u001b[0;34m\u001b[0m\u001b[0;34m\u001b[0m\u001b[0m\n\u001b[0m\u001b[1;32m    110\u001b[0m         )\n\u001b[1;32m    111\u001b[0m         \u001b[0midxmatch\u001b[0m \u001b[0;34m=\u001b[0m \u001b[0midxmatch\u001b[0m\u001b[0;34m[\u001b[0m\u001b[0midxmatch\u001b[0m\u001b[0;34m.\u001b[0m\u001b[0mapply\u001b[0m\u001b[0;34m(\u001b[0m\u001b[0mlen\u001b[0m\u001b[0;34m)\u001b[0m \u001b[0;34m>\u001b[0m \u001b[0;36m0\u001b[0m\u001b[0;34m]\u001b[0m\u001b[0;34m\u001b[0m\u001b[0;34m\u001b[0m\u001b[0m\n",
      "\u001b[0;31mAttributeError\u001b[0m: 'NoneType' object has no attribute 'intersection'"
     ]
    }
   ],
   "source": [
    "# Create a shapely Point from lat and lng\n",
    "breweries_df['geometry'] = breweries_df.apply(lambda x: Point((x.longitude , x.latitude)), axis = 1)\n",
    "\n",
    "# Spatial join of permits_geo and council_districts\n",
    "breweries_by_state = geopandas.sjoin(breweries_geo, usa_geo, op = 'within')\n",
    "print(breweries_by_state.head(2))\n",
    "\n",
    "# Create permit_counts\n",
    "brewery_counts = breweries_by_state.groupby(['state']).size()\n",
    "print(brewery_counts)"
   ]
  },
  {
   "cell_type": "code",
   "execution_count": null,
   "metadata": {},
   "outputs": [],
   "source": []
  },
  {
   "cell_type": "code",
   "execution_count": 583,
   "metadata": {},
   "outputs": [
    {
     "data": {
      "text/plain": [
       "<matplotlib.axes._subplots.AxesSubplot at 0x7f55503b14a8>"
      ]
     },
     "execution_count": 583,
     "metadata": {},
     "output_type": "execute_result"
    },
    {
     "data": {
      "image/png": "[encoded data removed]",
      "text/plain": [
       "<Figure size 504x360 with 1 Axes>"
      ]
     },
     "metadata": {},
     "output_type": "display_data"
    }
   ],
   "source": [
    "usa[usa.state_abbrev == \"NY\"].plot()"
   ]
  },
  {
   "cell_type": "code",
   "execution_count": 584,
   "metadata": {},
   "outputs": [
    {
     "data": {
      "text/plain": [
       "<function __main__.state_plot(states, us_map=True)>"
      ]
     },
     "execution_count": 584,
     "metadata": {},
     "output_type": "execute_result"
    }
   ],
   "source": [
    "def state_plot (states, us_map=True):\n",
    "    fig, ax = plt.subplots(figsize=(30,30))\n",
    "    if us_map:\n",
    "        if \"HI\" in states:\n",
    "            usa[0:50].plot(ax=ax, alpha=0.3)\n",
    "        elif \"AK\" in states:\n",
    "            usa[1:51].plot(ax=ax, alpha=0.3)\n",
    "        elif \"AK\" and \"HI\" in states:\n",
    "            usa[0:51].plot(ax=ax, alpha=0.3)\n",
    "        else:\n",
    "            usa[1:50].plot(ax=ax, alpha=0.3)\n",
    "            \n",
    "        for n in states:\n",
    "            usa[usa.state_abbrev == f'{n}'].plot(ax=ax,edgecolor='y', linewidth =2)\n",
    "state_plot         "
   ]
  },
  {
   "cell_type": "code",
   "execution_count": 585,
   "metadata": {},
   "outputs": [],
   "source": [
    "state_plot([\"WY\",\"CT\",\"NY\"])"
   ]
  },
  {
   "cell_type": "code",
   "execution_count": 586,
   "metadata": {},
   "outputs": [
    {
     "data": {
      "text/plain": [
       "shapely.geometry.multipolygon.MultiPolygon"
      ]
     },
     "execution_count": 586,
     "metadata": {},
     "output_type": "execute_result"
    }
   ],
   "source": [
    "# check the datatype of the geometry in the df\n",
    "type(usa.geometry[0])"
   ]
  },
  {
   "cell_type": "code",
   "execution_count": 587,
   "metadata": {},
   "outputs": [],
   "source": [
    "usa[usa['state'].isin(['Alaska','Hawaii']) == False].plot(figsize=(30,20), color='#3B3C6E');"
   ]
  },
  {
   "cell_type": "code",
   "execution_count": 588,
   "metadata": {},
   "outputs": [],
   "source": [
    "# from geopy.geocoders import Nominatim\n",
    "# geolocator = Nominatim()\n",
    "# location = geolocator.geocode(\"Hawaii\")\n",
    "# print(location.address)\n",
    "# print((location.latitude, location.longitude))"
   ]
  },
  {
   "cell_type": "code",
   "execution_count": 589,
   "metadata": {},
   "outputs": [],
   "source": [
    "# usa['coordinates'] = usa['state'].apply(geolocator.geocode).apply(lambda x: (x.latitude, x.longitude))"
   ]
  },
  {
   "cell_type": "code",
   "execution_count": 590,
   "metadata": {},
   "outputs": [],
   "source": [
    "# brewery_coordinates = breweries_df['coordinates'] = breweries_df['city'].apply(geolocator.geocode).apply(lambda x: (x.latitude, x.longitude))"
   ]
  },
  {
   "cell_type": "code",
   "execution_count": null,
   "metadata": {},
   "outputs": [],
   "source": []
  },
  {
   "cell_type": "code",
   "execution_count": null,
   "metadata": {},
   "outputs": [],
   "source": []
  },
  {
   "cell_type": "code",
   "execution_count": null,
   "metadata": {},
   "outputs": [],
   "source": []
  },
  {
   "cell_type": "code",
   "execution_count": null,
   "metadata": {},
   "outputs": [],
   "source": []
  },
  {
   "cell_type": "code",
   "execution_count": null,
   "metadata": {},
   "outputs": [],
   "source": []
  },
  {
   "cell_type": "code",
   "execution_count": null,
   "metadata": {},
   "outputs": [],
   "source": []
  }
 ],
 "metadata": {
  "kernelspec": {
   "display_name": "Python 3",
   "language": "python",
   "name": "python3"
  },
  "language_info": {
   "codemirror_mode": {
    "name": "ipython",
    "version": 3
   },
   "file_extension": ".py",
   "mimetype": "text/x-python",
   "name": "python",
   "nbconvert_exporter": "python",
   "pygments_lexer": "ipython3",
   "version": "3.6.7"
  }
 },
 "nbformat": 4,
 "nbformat_minor": 2
}
